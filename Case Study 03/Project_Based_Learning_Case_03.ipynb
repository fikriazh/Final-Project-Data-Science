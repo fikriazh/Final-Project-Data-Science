{
 "cells": [
  {
   "cell_type": "markdown",
   "metadata": {},
   "source": [
    "### Context"
   ]
  },
  {
   "attachments": {},
   "cell_type": "markdown",
   "metadata": {},
   "source": [
    "League of Legends adalah MOBA (Multiplayer Online Battle Arena) di mana dalam permainannya terdapat 2 tim (biru dan merah) yang saling berhadapan. Dalam satu laga permainan, ada 3 jalur yang dijadikan medan perang, hutan dan pemainnya terbagi jadi 5 peran. Tujuan permainan ini adalah menjatuhkan Nexus atau base musuh dan memenangkan permainan."
   ]
  },
  {
   "cell_type": "markdown",
   "metadata": {},
   "source": [
    "### Content"
   ]
  },
  {
   "attachments": {},
   "cell_type": "markdown",
   "metadata": {},
   "source": [
    "Diketahui dataset berisi 10 menit dari pertandingan.  Game yang dimainkan berperingkat 10k (SOLO QUEUE Player) dari ELO Diamond I hingga level Master. ELO sendiri merupakan teknik pencarian pemain dengan peringkat atau tingkat keterampilan yang sejenis. Setiap permainan yang terjadi itu unik. GameId dapat membantu kamu mengambil lebih banyak atribut dari Riot API pada kolom dataset. \n",
    "\n",
    "Dari data Glossary & Variables, diketahui terdapat 19 fitur pertim (total 38) yang dikumpulkan setelah 10 menit game berlangsung. Data ini termasuk pembunuhan, kematian, emas, pengalaman dan level. Di sini kamu dibebaskan untuk melakukan beberapa rekayasa fitur untuk mendapatkan lebih banyak wawasan atau insight. \n",
    "\n",
    "Pada data diketahui juga bahwa kolom blueWins adalah nilai target atau nilai yang akan coba diprediksi, di mana jika Nilai 1 berarti tim biru menang, sedangkan jika Nilai 0 maka sebaliknya. "
   ]
  },
  {
   "cell_type": "markdown",
   "metadata": {},
   "source": [
    "### Glossary"
   ]
  },
  {
   "attachments": {},
   "cell_type": "markdown",
   "metadata": {},
   "source": [
    "- Warding totem: Item yang dapat diletakkan pemain di peta untuk mengungkap area terdekat. Sangat berguna untuk kontrol peta/tujuan. \n",
    "- Minions: Item yang dapat diletakkan pemain di peta untuk mengungkap area terdekat. Sangat berguna untuk kontrol peta/tujuan.\n",
    "- Jungle minions: NPC milik NO TEAM. Mereka memberi emas dan buff saat dibunuh oleh pemain.\n",
    "- Elite monsters: Monster dengan hp/damage tinggi yang memberikan bonus besar (gold/XP/stat) saat dibunuh oleh tim.\n",
    "- Dragons: Monster elit yang memberikan bonus tim saat terbunuh. Naga ke-4 yang dibunuh oleh tim memberikan bonus statistik yang sangat besar. The - - 5th dragon (Elder Dragon) menawarkan keuntungan besar bagi tim.\n",
    "- Herald: Monster elit yang memberikan bonus statistik saat dibunuh oleh pemain. Ini membantu untuk mendorong jalur dan menghancurkan struktur.\n",
    "- Towers: Struktur yang harus Anda hancurkan untuk mencapai Nexus musuh. Mereka memberi emas.\n",
    "- Level: Champion level. Mulai dari 1. Maksimal 18."
   ]
  },
  {
   "attachments": {},
   "cell_type": "markdown",
   "metadata": {},
   "source": [
    "### Variables"
   ]
  },
  {
   "attachments": {},
   "cell_type": "markdown",
   "metadata": {},
   "source": [
    "1.\tGameid : ID RIOT unik dari game. Dapat digunakan dengan Riot Games API.\n",
    "2.\tBluewins: Kolom target. 1 jika tim biru menang, 0 sebaliknya.\n",
    "3.\tblueWardsPlaced Jumlah totem penangkal yang ditempatkan oleh tim biru di peta\n",
    "4.\tblueWardsDestroyed : Jumlah totem penangkal musuh yang telah dihancurkan oleh tim biru\n",
    "5.\tblueFirstBlood : Pembunuhan pertama dari permainan. 1 jika tim biru melakukan pembunuhan pertama, 0 sebaliknya\n",
    "6.\tblueKills : Jumlah musuh yang dibunuh oleh tim biru\n",
    "7.\tblueDeaths : Jumlah kematian (tim biru)\n",
    "8.\tblueAssists : Jumlah assist kill (tim biru)\n",
    "9.\tblueEliteMonsters : Jumlah monster elit yang dibunuh oleh tim biru (Dragons and Heralds)\n",
    "10.\tblueDragons : Jumlah naga yang dibunuh oleh tim biru\n",
    "11.\tblueHeralds :  Jumlah tentara yang dibunuh oleh tim biru\n",
    "12.\tblueTowersDestroyed : Jumlah bangunan yang dihancurkan oleh tim biru (menara...)\n",
    "13.\tblueTotalGold : Tim biru total emas\n",
    "14.\tblueAvgLevel : Tingkat juara rata-rata tim biru\n",
    "15.\tblueTotalExperience : Pengalaman total tim biru\n",
    "16.\tblueTotalMinionsKilled : Total minion tim biru terbunuh (CS)\n",
    "17.\tblueTotalJungleMinionsKilled : Total monster hutan tim biru terbunuh\n",
    "18.\tblueGoldDiff : Perbedaan emas tim biru dibandingkan dengan tim musuh\n",
    "19.\tblueExperienceDiff : Tim biru mengalami perbedaan dibandingkan dengan tim musuh\n",
    "20.\tblueCSPerMin : CS tim biru (antek) per menit\n",
    "21.\tblueGoldPerMin : Emas tim biru per menit\n",
    "22.\tredWardsPlaced : Jumlah totem penangkal yang ditempatkan oleh tim merah di peta\n",
    "23.\tredWardsDestroyed : Jumlah totem penangkal musuh yang telah dihancurkan oleh tim merah\n",
    "24.\tredFirstBlood : Pembunuhan pertama dari permainan. 1 jika tim merah melakukan pembunuhan pertama, 0 sebaliknya\n",
    "25.\tredKills : Jumlah musuh yang dibunuh oleh tim merah\n",
    "26.\tredDeaths : Jumlah kematian (tim merah)\n",
    "27.\tredAssists: Jumlah assist kill (tim merah)\n",
    "28.\tredEliteMonsters : Jumlah monster elit yang dibunuh oleh tim merah (Dragons and Heralds)\n",
    "29.\tredDragons : Jumlah naga yang dibunuh oleh tim merah\n",
    "30.\tredHeralds: Jumlah bentara yang dibunuh oleh tim merah\n",
    "31.\tredTowersDestroyed : Jumlah bangunan yang dihancurkan oleh tim merah (menara)\n",
    "32.\tredTotalGold: Tim merah total emas\n",
    "33.\tredAvgLevel: Tingkat juara rata-rata tim merah\n",
    "34.\tredTotalExperience: Pengalaman total tim merah\n",
    "35.\tredTotalMinionsKilled : Total minion tim merah tewas (CS)\n",
    "36.\tredTotalJungleMinionsKilled : Total monster hutan tim merah terbunuh\n",
    "37.\tredGoldDiff : Perbedaan emas tim merah dibandingkan dengan tim musuh\n",
    "38.\tredExperienceDiff : Tim merah mengalami perbedaan dibandingkan dengan tim musuh\n",
    "39.\tredCSPerMin : CS tim merah (antek) per menit\n",
    "40.\tredGoldPerMin : Emas tim merah per menit"
   ]
  },
  {
   "cell_type": "markdown",
   "metadata": {},
   "source": [
    "## 1. Importing libraries"
   ]
  },
  {
   "cell_type": "code",
   "execution_count": 1,
   "metadata": {},
   "outputs": [],
   "source": [
    "import pandas as pd\n",
    "import numpy as np\n",
    "import matplotlib.pyplot as plt\n",
    "import seaborn as sns"
   ]
  },
  {
   "cell_type": "code",
   "execution_count": null,
   "metadata": {},
   "outputs": [],
   "source": [
    "# Import Data\n",
    "..."
   ]
  },
  {
   "cell_type": "code",
   "execution_count": null,
   "metadata": {},
   "outputs": [],
   "source": [
    "# Checking the shape of the data\n",
    "..."
   ]
  },
  {
   "cell_type": "markdown",
   "metadata": {},
   "source": [
    "## 2. Basic EDA & Data Preprocessing"
   ]
  },
  {
   "cell_type": "code",
   "execution_count": null,
   "metadata": {},
   "outputs": [],
   "source": [
    "# Checking null values\n",
    "..."
   ]
  },
  {
   "cell_type": "code",
   "execution_count": null,
   "metadata": {},
   "outputs": [],
   "source": [
    "# checking data types of the columns\n",
    "..."
   ]
  },
  {
   "cell_type": "code",
   "execution_count": null,
   "metadata": {},
   "outputs": [],
   "source": [
    "#checking for quasi constants\n",
    "..."
   ]
  },
  {
   "cell_type": "code",
   "execution_count": null,
   "metadata": {},
   "outputs": [],
   "source": [
    "# Bar plot of the outcomes to see how they are distributed\n",
    "..."
   ]
  },
  {
   "cell_type": "code",
   "execution_count": null,
   "metadata": {},
   "outputs": [],
   "source": [
    "# Value counts data blueWins\n",
    "..."
   ]
  },
  {
   "attachments": {},
   "cell_type": "markdown",
   "metadata": {},
   "source": [
    "# Buatlah catatan dari hasil data preprocessing"
   ]
  },
  {
   "cell_type": "markdown",
   "metadata": {},
   "source": [
    "#### Importing required libraries"
   ]
  },
  {
   "cell_type": "code",
   "execution_count": null,
   "metadata": {},
   "outputs": [],
   "source": [
    "..."
   ]
  },
  {
   "cell_type": "markdown",
   "metadata": {},
   "source": [
    "## 3. Data Splitting into train and test set"
   ]
  },
  {
   "cell_type": "code",
   "execution_count": 9,
   "metadata": {},
   "outputs": [],
   "source": [
    "..."
   ]
  },
  {
   "attachments": {},
   "cell_type": "markdown",
   "metadata": {},
   "source": [
    "## 4. Feature Selection and Compare Each Model"
   ]
  },
  {
   "attachments": {},
   "cell_type": "markdown",
   "metadata": {},
   "source": [
    "Method 1: Feature Selection using different methods and checking with different models"
   ]
  },
  {
   "attachments": {},
   "cell_type": "markdown",
   "metadata": {},
   "source": [
    "Feature Selection using Feature importance of Random Forest Classifier"
   ]
  },
  {
   "cell_type": "code",
   "execution_count": null,
   "metadata": {},
   "outputs": [],
   "source": [
    "..."
   ]
  },
  {
   "attachments": {},
   "cell_type": "markdown",
   "metadata": {},
   "source": [
    "Feature Selection using Recursive feature extraction (RFE)"
   ]
  },
  {
   "cell_type": "code",
   "execution_count": null,
   "metadata": {},
   "outputs": [],
   "source": [
    "..."
   ]
  },
  {
   "attachments": {},
   "cell_type": "markdown",
   "metadata": {},
   "source": [
    "## 5. Modelling and Evaluation\n"
   ]
  },
  {
   "cell_type": "code",
   "execution_count": null,
   "metadata": {},
   "outputs": [],
   "source": [
    "..."
   ]
  }
 ],
 "metadata": {
  "kernelspec": {
   "display_name": "Python 3",
   "language": "python",
   "name": "python3"
  },
  "language_info": {
   "codemirror_mode": {
    "name": "ipython",
    "version": 3
   },
   "file_extension": ".py",
   "mimetype": "text/x-python",
   "name": "python",
   "nbconvert_exporter": "python",
   "pygments_lexer": "ipython3",
   "version": "3.11.1 (tags/v3.11.1:a7a450f, Dec  6 2022, 19:58:39) [MSC v.1934 64 bit (AMD64)]"
  },
  "vscode": {
   "interpreter": {
    "hash": "5e70fd34aa919644e731ce0c71c5ec6c66d3b48eb7909f9a04da7ee7076ef028"
   }
  }
 },
 "nbformat": 4,
 "nbformat_minor": 4
}
