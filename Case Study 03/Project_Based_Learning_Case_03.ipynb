{
 "cells": [
  {
   "cell_type": "markdown",
   "metadata": {},
   "source": [
    "### Context"
   ]
  },
  {
   "cell_type": "markdown",
   "metadata": {},
   "source": [
    "League of Legends adalah MOBA (Multiplayer Online Battle Arena) di mana dalam permainannya terdapat 2 tim (biru dan merah) yang saling berhadapan. Dalam satu laga permainan, ada 3 jalur yang dijadikan medan perang, hutan dan pemainnya terbagi jadi 5 peran. Tujuan permainan ini adalah menjatuhkan Nexus atau base musuh dan memenangkan permainan."
   ]
  },
  {
   "cell_type": "markdown",
   "metadata": {},
   "source": [
    "### Content"
   ]
  },
  {
   "cell_type": "markdown",
   "metadata": {},
   "source": [
    "Diketahui dataset berisi 10 menit dari pertandingan.  Game yang dimainkan berperingkat 10k (SOLO QUEUE Player) dari ELO Diamond I hingga level Master. ELO sendiri merupakan teknik pencarian pemain dengan peringkat atau tingkat keterampilan yang sejenis. Setiap permainan yang terjadi itu unik. GameId dapat membantu kamu mengambil lebih banyak atribut dari Riot API pada kolom dataset. \n",
    "\n",
    "Dari data Glossary & Variables, diketahui terdapat 19 fitur pertim (total 38) yang dikumpulkan setelah 10 menit game berlangsung. Data ini termasuk pembunuhan, kematian, emas, pengalaman dan level. Di sini kamu dibebaskan untuk melakukan beberapa rekayasa fitur untuk mendapatkan lebih banyak wawasan atau insight. \n",
    "\n",
    "Pada data diketahui juga bahwa kolom blueWins adalah nilai target atau nilai yang akan coba diprediksi, di mana jika Nilai 1 berarti tim biru menang, sedangkan jika Nilai 0 maka sebaliknya. "
   ]
  },
  {
   "cell_type": "markdown",
   "metadata": {},
   "source": [
    "### Glossary"
   ]
  },
  {
   "cell_type": "markdown",
   "metadata": {},
   "source": [
    "- Warding totem: Item yang dapat diletakkan pemain di peta untuk mengungkap area terdekat. Sangat berguna untuk kontrol peta/tujuan. \n",
    "- Minions: Item yang dapat diletakkan pemain di peta untuk mengungkap area terdekat. Sangat berguna untuk kontrol peta/tujuan.\n",
    "- Jungle minions: NPC milik NO TEAM. Mereka memberi emas dan buff saat dibunuh oleh pemain.\n",
    "- Elite monsters: Monster dengan hp/damage tinggi yang memberikan bonus besar (gold/XP/stat) saat dibunuh oleh tim.\n",
    "- Dragons: Monster elit yang memberikan bonus tim saat terbunuh. Naga ke-4 yang dibunuh oleh tim memberikan bonus statistik yang sangat besar. The - - 5th dragon (Elder Dragon) menawarkan keuntungan besar bagi tim.\n",
    "- Herald: Monster elit yang memberikan bonus statistik saat dibunuh oleh pemain. Ini membantu untuk mendorong jalur dan menghancurkan struktur.\n",
    "- Towers: Struktur yang harus Anda hancurkan untuk mencapai Nexus musuh. Mereka memberi emas.\n",
    "- Level: Champion level. Mulai dari 1. Maksimal 18."
   ]
  },
  {
   "cell_type": "markdown",
   "metadata": {},
   "source": [
    "### Variables"
   ]
  },
  {
   "cell_type": "markdown",
   "metadata": {},
   "source": [
    "1. Gameid : ID RIOT unik dari game. Dapat digunakan dengan Riot Games API.\n",
    "2. Bluewins: Kolom target. 1 jika tim biru menang, 0 sebaliknya.\n",
    "3. blueWardsPlaced Jumlah totem penangkal yang ditempatkan oleh tim biru di peta\n",
    "4. blueWardsDestroyed : Jumlah totem penangkal musuh yang telah dihancurkan oleh tim biru\n",
    "5. blueFirstBlood : Pembunuhan pertama dari permainan. 1 jika tim biru melakukan pembunuhan pertama, 0 sebaliknya\n",
    "6. blueKills : Jumlah musuh yang dibunuh oleh tim biru\n",
    "7. blueDeaths : Jumlah kematian (tim biru)\n",
    "8. blueAssists : Jumlah assist kill (tim biru)\n",
    "9. blueEliteMonsters : Jumlah monster elit yang dibunuh oleh tim biru (Dragons and Heralds)\n",
    "10. blueDragons : Jumlah naga yang dibunuh oleh tim biru\n",
    "11. blueHeralds :  Jumlah tentara yang dibunuh oleh tim biru\n",
    "12. blueTowersDestroyed : Jumlah bangunan yang dihancurkan oleh tim biru (menara...)\n",
    "13. blueTotalGold : Tim biru total emas\n",
    "14. blueAvgLevel : Tingkat juara rata-rata tim biru\n",
    "15. blueTotalExperience : Pengalaman total tim biru\n",
    "16. blueTotalMinionsKilled : Total minion tim biru terbunuh (CS)\n",
    "17. blueTotalJungleMinionsKilled : Total monster hutan tim biru terbunuh\n",
    "18. blueGoldDiff : Perbedaan emas tim biru dibandingkan dengan tim musuh\n",
    "19. blueExperienceDiff : Tim biru mengalami perbedaan dibandingkan dengan tim musuh\n",
    "20. blueCSPerMin : CS tim biru (antek) per menit\n",
    "21. blueGoldPerMin : Emas tim biru per menit\n",
    "22. redWardsPlaced : Jumlah totem penangkal yang ditempatkan oleh tim merah di peta\n",
    "23. redWardsDestroyed : Jumlah totem penangkal musuh yang telah dihancurkan oleh tim merah\n",
    "24. redFirstBlood : Pembunuhan pertama dari permainan. 1 jika tim merah melakukan pembunuhan pertama, 0 sebaliknya\n",
    "25. redKills : Jumlah musuh yang dibunuh oleh tim merah\n",
    "26. redDeaths : Jumlah kematian (tim merah)\n",
    "27. redAssists: Jumlah assist kill (tim merah)\n",
    "28. redEliteMonsters : Jumlah monster elit yang dibunuh oleh tim merah (Dragons and Heralds)\n",
    "29. redDragons : Jumlah naga yang dibunuh oleh tim merah\n",
    "30. redHeralds: Jumlah bentara yang dibunuh oleh tim merah\n",
    "31. redTowersDestroyed : Jumlah bangunan yang dihancurkan oleh tim merah (menara)\n",
    "32. redTotalGold: Tim merah total emas\n",
    "33. redAvgLevel: Tingkat juara rata-rata tim merah\n",
    "34. redTotalExperience: Pengalaman total tim merah\n",
    "35. redTotalMinionsKilled : Total minion tim merah tewas (CS)\n",
    "36. redTotalJungleMinionsKilled : Total monster hutan tim merah terbunuh\n",
    "37. redGoldDiff : Perbedaan emas tim merah dibandingkan dengan tim musuh\n",
    "38. redExperienceDiff : Tim merah mengalami perbedaan dibandingkan dengan tim musuh\n",
    "39. redCSPerMin : CS tim merah (antek) per menit\n",
    "40. redGoldPerMin : Emas tim merah per menit"
   ]
  },
  {
   "cell_type": "markdown",
   "metadata": {},
   "source": [
    "## 1. Importing libraries"
   ]
  },
  {
   "cell_type": "code",
   "execution_count": 10,
   "metadata": {},
   "outputs": [],
   "source": [
    "import pandas as pd\n",
    "import numpy as np\n",
    "import matplotlib.pyplot as plt\n",
    "%matplotlib inline\n",
    "import seaborn as sns"
   ]
  },
  {
   "cell_type": "code",
   "execution_count": 2,
   "metadata": {},
   "outputs": [
    {
     "data": {
      "text/html": [
       "<div>\n",
       "<style scoped>\n",
       "    .dataframe tbody tr th:only-of-type {\n",
       "        vertical-align: middle;\n",
       "    }\n",
       "\n",
       "    .dataframe tbody tr th {\n",
       "        vertical-align: top;\n",
       "    }\n",
       "\n",
       "    .dataframe thead th {\n",
       "        text-align: right;\n",
       "    }\n",
       "</style>\n",
       "<table border=\"1\" class=\"dataframe\">\n",
       "  <thead>\n",
       "    <tr style=\"text-align: right;\">\n",
       "      <th></th>\n",
       "      <th>gameId</th>\n",
       "      <th>blueWins</th>\n",
       "      <th>blueWardsPlaced</th>\n",
       "      <th>blueWardsDestroyed</th>\n",
       "      <th>blueFirstBlood</th>\n",
       "      <th>blueKills</th>\n",
       "      <th>blueDeaths</th>\n",
       "      <th>blueAssists</th>\n",
       "      <th>blueEliteMonsters</th>\n",
       "      <th>blueDragons</th>\n",
       "      <th>...</th>\n",
       "      <th>redTowersDestroyed</th>\n",
       "      <th>redTotalGold</th>\n",
       "      <th>redAvgLevel</th>\n",
       "      <th>redTotalExperience</th>\n",
       "      <th>redTotalMinionsKilled</th>\n",
       "      <th>redTotalJungleMinionsKilled</th>\n",
       "      <th>redGoldDiff</th>\n",
       "      <th>redExperienceDiff</th>\n",
       "      <th>redCSPerMin</th>\n",
       "      <th>redGoldPerMin</th>\n",
       "    </tr>\n",
       "  </thead>\n",
       "  <tbody>\n",
       "    <tr>\n",
       "      <th>0</th>\n",
       "      <td>4519157822</td>\n",
       "      <td>0</td>\n",
       "      <td>28</td>\n",
       "      <td>2</td>\n",
       "      <td>1</td>\n",
       "      <td>9</td>\n",
       "      <td>6</td>\n",
       "      <td>11</td>\n",
       "      <td>0</td>\n",
       "      <td>0</td>\n",
       "      <td>...</td>\n",
       "      <td>0</td>\n",
       "      <td>16567</td>\n",
       "      <td>6.8</td>\n",
       "      <td>17047</td>\n",
       "      <td>197</td>\n",
       "      <td>55</td>\n",
       "      <td>-643</td>\n",
       "      <td>8</td>\n",
       "      <td>19.7</td>\n",
       "      <td>1656.7</td>\n",
       "    </tr>\n",
       "    <tr>\n",
       "      <th>1</th>\n",
       "      <td>4523371949</td>\n",
       "      <td>0</td>\n",
       "      <td>12</td>\n",
       "      <td>1</td>\n",
       "      <td>0</td>\n",
       "      <td>5</td>\n",
       "      <td>5</td>\n",
       "      <td>5</td>\n",
       "      <td>0</td>\n",
       "      <td>0</td>\n",
       "      <td>...</td>\n",
       "      <td>1</td>\n",
       "      <td>17620</td>\n",
       "      <td>6.8</td>\n",
       "      <td>17438</td>\n",
       "      <td>240</td>\n",
       "      <td>52</td>\n",
       "      <td>2908</td>\n",
       "      <td>1173</td>\n",
       "      <td>24.0</td>\n",
       "      <td>1762.0</td>\n",
       "    </tr>\n",
       "    <tr>\n",
       "      <th>2</th>\n",
       "      <td>4521474530</td>\n",
       "      <td>0</td>\n",
       "      <td>15</td>\n",
       "      <td>0</td>\n",
       "      <td>0</td>\n",
       "      <td>7</td>\n",
       "      <td>11</td>\n",
       "      <td>4</td>\n",
       "      <td>1</td>\n",
       "      <td>1</td>\n",
       "      <td>...</td>\n",
       "      <td>0</td>\n",
       "      <td>17285</td>\n",
       "      <td>6.8</td>\n",
       "      <td>17254</td>\n",
       "      <td>203</td>\n",
       "      <td>28</td>\n",
       "      <td>1172</td>\n",
       "      <td>1033</td>\n",
       "      <td>20.3</td>\n",
       "      <td>1728.5</td>\n",
       "    </tr>\n",
       "    <tr>\n",
       "      <th>3</th>\n",
       "      <td>4524384067</td>\n",
       "      <td>0</td>\n",
       "      <td>43</td>\n",
       "      <td>1</td>\n",
       "      <td>0</td>\n",
       "      <td>4</td>\n",
       "      <td>5</td>\n",
       "      <td>5</td>\n",
       "      <td>1</td>\n",
       "      <td>0</td>\n",
       "      <td>...</td>\n",
       "      <td>0</td>\n",
       "      <td>16478</td>\n",
       "      <td>7.0</td>\n",
       "      <td>17961</td>\n",
       "      <td>235</td>\n",
       "      <td>47</td>\n",
       "      <td>1321</td>\n",
       "      <td>7</td>\n",
       "      <td>23.5</td>\n",
       "      <td>1647.8</td>\n",
       "    </tr>\n",
       "    <tr>\n",
       "      <th>4</th>\n",
       "      <td>4436033771</td>\n",
       "      <td>0</td>\n",
       "      <td>75</td>\n",
       "      <td>4</td>\n",
       "      <td>0</td>\n",
       "      <td>6</td>\n",
       "      <td>6</td>\n",
       "      <td>6</td>\n",
       "      <td>0</td>\n",
       "      <td>0</td>\n",
       "      <td>...</td>\n",
       "      <td>0</td>\n",
       "      <td>17404</td>\n",
       "      <td>7.0</td>\n",
       "      <td>18313</td>\n",
       "      <td>225</td>\n",
       "      <td>67</td>\n",
       "      <td>1004</td>\n",
       "      <td>-230</td>\n",
       "      <td>22.5</td>\n",
       "      <td>1740.4</td>\n",
       "    </tr>\n",
       "  </tbody>\n",
       "</table>\n",
       "<p>5 rows × 40 columns</p>\n",
       "</div>"
      ],
      "text/plain": [
       "       gameId  blueWins  blueWardsPlaced  blueWardsDestroyed  blueFirstBlood  \\\n",
       "0  4519157822         0               28                   2               1   \n",
       "1  4523371949         0               12                   1               0   \n",
       "2  4521474530         0               15                   0               0   \n",
       "3  4524384067         0               43                   1               0   \n",
       "4  4436033771         0               75                   4               0   \n",
       "\n",
       "   blueKills  blueDeaths  blueAssists  blueEliteMonsters  blueDragons  ...  \\\n",
       "0          9           6           11                  0            0  ...   \n",
       "1          5           5            5                  0            0  ...   \n",
       "2          7          11            4                  1            1  ...   \n",
       "3          4           5            5                  1            0  ...   \n",
       "4          6           6            6                  0            0  ...   \n",
       "\n",
       "   redTowersDestroyed  redTotalGold  redAvgLevel  redTotalExperience  \\\n",
       "0                   0         16567          6.8               17047   \n",
       "1                   1         17620          6.8               17438   \n",
       "2                   0         17285          6.8               17254   \n",
       "3                   0         16478          7.0               17961   \n",
       "4                   0         17404          7.0               18313   \n",
       "\n",
       "   redTotalMinionsKilled  redTotalJungleMinionsKilled  redGoldDiff  \\\n",
       "0                    197                           55         -643   \n",
       "1                    240                           52         2908   \n",
       "2                    203                           28         1172   \n",
       "3                    235                           47         1321   \n",
       "4                    225                           67         1004   \n",
       "\n",
       "   redExperienceDiff  redCSPerMin  redGoldPerMin  \n",
       "0                  8         19.7         1656.7  \n",
       "1               1173         24.0         1762.0  \n",
       "2               1033         20.3         1728.5  \n",
       "3                  7         23.5         1647.8  \n",
       "4               -230         22.5         1740.4  \n",
       "\n",
       "[5 rows x 40 columns]"
      ]
     },
     "execution_count": 2,
     "metadata": {},
     "output_type": "execute_result"
    }
   ],
   "source": [
    "# Import Data\n",
    "\n",
    "df = pd.read_csv('high_diamond_ranked_10min.csv')\n",
    "\n",
    "# Menampilkan 5 baris teratas dari dataset\n",
    "df.head()"
   ]
  },
  {
   "cell_type": "code",
   "execution_count": 3,
   "metadata": {},
   "outputs": [
    {
     "data": {
      "text/plain": [
       "(9879, 40)"
      ]
     },
     "execution_count": 3,
     "metadata": {},
     "output_type": "execute_result"
    }
   ],
   "source": [
    "# Checking the shape of the data\n",
    "\n",
    "df.shape"
   ]
  },
  {
   "cell_type": "markdown",
   "metadata": {},
   "source": [
    "## 2. Basic EDA & Data Preprocessing"
   ]
  },
  {
   "cell_type": "code",
   "execution_count": 4,
   "metadata": {},
   "outputs": [
    {
     "name": "stdout",
     "output_type": "stream",
     "text": [
      "Total nilai null dalam seluruh data:  0\n"
     ]
    }
   ],
   "source": [
    "# Checking null values\n",
    "\n",
    "total_null = df.isnull().sum().sum()\n",
    "\n",
    "print(\"Total nilai null dalam seluruh data: \", total_null)"
   ]
  },
  {
   "cell_type": "code",
   "execution_count": 5,
   "metadata": {},
   "outputs": [
    {
     "name": "stdout",
     "output_type": "stream",
     "text": [
      "gameId                            int64\n",
      "blueWins                          int64\n",
      "blueWardsPlaced                   int64\n",
      "blueWardsDestroyed                int64\n",
      "blueFirstBlood                    int64\n",
      "blueKills                         int64\n",
      "blueDeaths                        int64\n",
      "blueAssists                       int64\n",
      "blueEliteMonsters                 int64\n",
      "blueDragons                       int64\n",
      "blueHeralds                       int64\n",
      "blueTowersDestroyed               int64\n",
      "blueTotalGold                     int64\n",
      "blueAvgLevel                    float64\n",
      "blueTotalExperience               int64\n",
      "blueTotalMinionsKilled            int64\n",
      "blueTotalJungleMinionsKilled      int64\n",
      "blueGoldDiff                      int64\n",
      "blueExperienceDiff                int64\n",
      "blueCSPerMin                    float64\n",
      "blueGoldPerMin                  float64\n",
      "redWardsPlaced                    int64\n",
      "redWardsDestroyed                 int64\n",
      "redFirstBlood                     int64\n",
      "redKills                          int64\n",
      "redDeaths                         int64\n",
      "redAssists                        int64\n",
      "redEliteMonsters                  int64\n",
      "redDragons                        int64\n",
      "redHeralds                        int64\n",
      "redTowersDestroyed                int64\n",
      "redTotalGold                      int64\n",
      "redAvgLevel                     float64\n",
      "redTotalExperience                int64\n",
      "redTotalMinionsKilled             int64\n",
      "redTotalJungleMinionsKilled       int64\n",
      "redGoldDiff                       int64\n",
      "redExperienceDiff                 int64\n",
      "redCSPerMin                     float64\n",
      "redGoldPerMin                   float64\n",
      "dtype: object\n"
     ]
    }
   ],
   "source": [
    "# checking data types of the columns\n",
    "\n",
    "print(df.dtypes)"
   ]
  },
  {
   "cell_type": "code",
   "execution_count": 8,
   "metadata": {},
   "outputs": [
    {
     "data": {
      "text/html": [
       "<div>\n",
       "<style scoped>\n",
       "    .dataframe tbody tr th:only-of-type {\n",
       "        vertical-align: middle;\n",
       "    }\n",
       "\n",
       "    .dataframe tbody tr th {\n",
       "        vertical-align: top;\n",
       "    }\n",
       "\n",
       "    .dataframe thead th {\n",
       "        text-align: right;\n",
       "    }\n",
       "</style>\n",
       "<table border=\"1\" class=\"dataframe\">\n",
       "  <thead>\n",
       "    <tr style=\"text-align: right;\">\n",
       "      <th></th>\n",
       "      <th>gameId</th>\n",
       "      <th>blueWins</th>\n",
       "      <th>blueWardsPlaced</th>\n",
       "      <th>blueWardsDestroyed</th>\n",
       "      <th>blueFirstBlood</th>\n",
       "      <th>blueKills</th>\n",
       "      <th>blueDeaths</th>\n",
       "      <th>blueAssists</th>\n",
       "      <th>blueEliteMonsters</th>\n",
       "      <th>blueDragons</th>\n",
       "      <th>...</th>\n",
       "      <th>redTowersDestroyed</th>\n",
       "      <th>redTotalGold</th>\n",
       "      <th>redAvgLevel</th>\n",
       "      <th>redTotalExperience</th>\n",
       "      <th>redTotalMinionsKilled</th>\n",
       "      <th>redTotalJungleMinionsKilled</th>\n",
       "      <th>redGoldDiff</th>\n",
       "      <th>redExperienceDiff</th>\n",
       "      <th>redCSPerMin</th>\n",
       "      <th>redGoldPerMin</th>\n",
       "    </tr>\n",
       "  </thead>\n",
       "  <tbody>\n",
       "    <tr>\n",
       "      <th>0</th>\n",
       "      <td>4.519158e+09</td>\n",
       "      <td>0.0</td>\n",
       "      <td>28.0</td>\n",
       "      <td>2.0</td>\n",
       "      <td>1.0</td>\n",
       "      <td>9.0</td>\n",
       "      <td>6.0</td>\n",
       "      <td>11.0</td>\n",
       "      <td>0.0</td>\n",
       "      <td>0.0</td>\n",
       "      <td>...</td>\n",
       "      <td>0.0</td>\n",
       "      <td>16567.0</td>\n",
       "      <td>6.8</td>\n",
       "      <td>17047.0</td>\n",
       "      <td>197.0</td>\n",
       "      <td>55.0</td>\n",
       "      <td>-643.0</td>\n",
       "      <td>8.0</td>\n",
       "      <td>19.7</td>\n",
       "      <td>1656.7</td>\n",
       "    </tr>\n",
       "    <tr>\n",
       "      <th>1</th>\n",
       "      <td>4.523372e+09</td>\n",
       "      <td>0.0</td>\n",
       "      <td>12.0</td>\n",
       "      <td>1.0</td>\n",
       "      <td>0.0</td>\n",
       "      <td>5.0</td>\n",
       "      <td>5.0</td>\n",
       "      <td>5.0</td>\n",
       "      <td>0.0</td>\n",
       "      <td>0.0</td>\n",
       "      <td>...</td>\n",
       "      <td>1.0</td>\n",
       "      <td>17620.0</td>\n",
       "      <td>6.8</td>\n",
       "      <td>17438.0</td>\n",
       "      <td>240.0</td>\n",
       "      <td>52.0</td>\n",
       "      <td>2908.0</td>\n",
       "      <td>1173.0</td>\n",
       "      <td>24.0</td>\n",
       "      <td>1762.0</td>\n",
       "    </tr>\n",
       "    <tr>\n",
       "      <th>2</th>\n",
       "      <td>4.521475e+09</td>\n",
       "      <td>0.0</td>\n",
       "      <td>15.0</td>\n",
       "      <td>0.0</td>\n",
       "      <td>0.0</td>\n",
       "      <td>7.0</td>\n",
       "      <td>11.0</td>\n",
       "      <td>4.0</td>\n",
       "      <td>1.0</td>\n",
       "      <td>1.0</td>\n",
       "      <td>...</td>\n",
       "      <td>0.0</td>\n",
       "      <td>17285.0</td>\n",
       "      <td>6.8</td>\n",
       "      <td>17254.0</td>\n",
       "      <td>203.0</td>\n",
       "      <td>28.0</td>\n",
       "      <td>1172.0</td>\n",
       "      <td>1033.0</td>\n",
       "      <td>20.3</td>\n",
       "      <td>1728.5</td>\n",
       "    </tr>\n",
       "    <tr>\n",
       "      <th>3</th>\n",
       "      <td>4.524384e+09</td>\n",
       "      <td>0.0</td>\n",
       "      <td>43.0</td>\n",
       "      <td>1.0</td>\n",
       "      <td>0.0</td>\n",
       "      <td>4.0</td>\n",
       "      <td>5.0</td>\n",
       "      <td>5.0</td>\n",
       "      <td>1.0</td>\n",
       "      <td>0.0</td>\n",
       "      <td>...</td>\n",
       "      <td>0.0</td>\n",
       "      <td>16478.0</td>\n",
       "      <td>7.0</td>\n",
       "      <td>17961.0</td>\n",
       "      <td>235.0</td>\n",
       "      <td>47.0</td>\n",
       "      <td>1321.0</td>\n",
       "      <td>7.0</td>\n",
       "      <td>23.5</td>\n",
       "      <td>1647.8</td>\n",
       "    </tr>\n",
       "    <tr>\n",
       "      <th>4</th>\n",
       "      <td>4.436034e+09</td>\n",
       "      <td>0.0</td>\n",
       "      <td>75.0</td>\n",
       "      <td>4.0</td>\n",
       "      <td>0.0</td>\n",
       "      <td>6.0</td>\n",
       "      <td>6.0</td>\n",
       "      <td>6.0</td>\n",
       "      <td>0.0</td>\n",
       "      <td>0.0</td>\n",
       "      <td>...</td>\n",
       "      <td>0.0</td>\n",
       "      <td>17404.0</td>\n",
       "      <td>7.0</td>\n",
       "      <td>18313.0</td>\n",
       "      <td>225.0</td>\n",
       "      <td>67.0</td>\n",
       "      <td>1004.0</td>\n",
       "      <td>-230.0</td>\n",
       "      <td>22.5</td>\n",
       "      <td>1740.4</td>\n",
       "    </tr>\n",
       "  </tbody>\n",
       "</table>\n",
       "<p>5 rows × 40 columns</p>\n",
       "</div>"
      ],
      "text/plain": [
       "         gameId  blueWins  blueWardsPlaced  blueWardsDestroyed  \\\n",
       "0  4.519158e+09       0.0             28.0                 2.0   \n",
       "1  4.523372e+09       0.0             12.0                 1.0   \n",
       "2  4.521475e+09       0.0             15.0                 0.0   \n",
       "3  4.524384e+09       0.0             43.0                 1.0   \n",
       "4  4.436034e+09       0.0             75.0                 4.0   \n",
       "\n",
       "   blueFirstBlood  blueKills  blueDeaths  blueAssists  blueEliteMonsters  \\\n",
       "0             1.0        9.0         6.0         11.0                0.0   \n",
       "1             0.0        5.0         5.0          5.0                0.0   \n",
       "2             0.0        7.0        11.0          4.0                1.0   \n",
       "3             0.0        4.0         5.0          5.0                1.0   \n",
       "4             0.0        6.0         6.0          6.0                0.0   \n",
       "\n",
       "   blueDragons  ...  redTowersDestroyed  redTotalGold  redAvgLevel  \\\n",
       "0          0.0  ...                 0.0       16567.0          6.8   \n",
       "1          0.0  ...                 1.0       17620.0          6.8   \n",
       "2          1.0  ...                 0.0       17285.0          6.8   \n",
       "3          0.0  ...                 0.0       16478.0          7.0   \n",
       "4          0.0  ...                 0.0       17404.0          7.0   \n",
       "\n",
       "   redTotalExperience  redTotalMinionsKilled  redTotalJungleMinionsKilled  \\\n",
       "0             17047.0                  197.0                         55.0   \n",
       "1             17438.0                  240.0                         52.0   \n",
       "2             17254.0                  203.0                         28.0   \n",
       "3             17961.0                  235.0                         47.0   \n",
       "4             18313.0                  225.0                         67.0   \n",
       "\n",
       "   redGoldDiff  redExperienceDiff  redCSPerMin  redGoldPerMin  \n",
       "0       -643.0                8.0         19.7         1656.7  \n",
       "1       2908.0             1173.0         24.0         1762.0  \n",
       "2       1172.0             1033.0         20.3         1728.5  \n",
       "3       1321.0                7.0         23.5         1647.8  \n",
       "4       1004.0             -230.0         22.5         1740.4  \n",
       "\n",
       "[5 rows x 40 columns]"
      ]
     },
     "execution_count": 8,
     "metadata": {},
     "output_type": "execute_result"
    }
   ],
   "source": [
    "#checking for quasi constants\n",
    "\n",
    "from sklearn.feature_selection import VarianceThreshold\n",
    "\n",
    "# Membuat instance VarianceThreshold dengan threshold 0.01\n",
    "selector = VarianceThreshold(threshold=0.01)\n",
    "\n",
    "# Melakukan fit transform pada data\n",
    "X = selector.fit_transform(df)\n",
    "\n",
    "# Mengubah hasil transformasi menjadi DataFrame\n",
    "df_new = pd.DataFrame(X, columns=df.columns[selector.get_support()])\n",
    "\n",
    "# Menampilkan hasil transformasi\n",
    "df_new.head()"
   ]
  },
  {
   "cell_type": "code",
   "execution_count": 24,
   "metadata": {},
   "outputs": [
    {
     "data": {
      "image/png": "[encoded data removed]",
      "text/plain": [
       "<Figure size 800x550 with 1 Axes>"
      ]
     },
     "metadata": {},
     "output_type": "display_data"
    }
   ],
   "source": [
    "# Bar plot of the outcomes to see how they are distributed\n",
    "\n",
    "import matplotlib.pyplot as plt\n",
    "\n",
    "# Membuat bar plot dari kolom target (kolom \"blueWins\")\n",
    "df[\"blueWins\"].value_counts().plot(kind=\"bar\")\n",
    "plt.title(\"Distribusi kolom target\")\n",
    "plt.xlabel(\"blueWins\")\n",
    "plt.ylabel(\"Jumlah\")\n",
    "plt.show()"
   ]
  },
  {
   "cell_type": "code",
   "execution_count": 25,
   "metadata": {},
   "outputs": [
    {
     "name": "stdout",
     "output_type": "stream",
     "text": [
      "Jumlah data untuk setiap kategori:\n",
      "0    4949\n",
      "1    4930\n",
      "Name: blueWins, dtype: int64\n"
     ]
    }
   ],
   "source": [
    "# Value counts data blueWins\n",
    "\n",
    "counts = df[\"blueWins\"].value_counts()\n",
    "\n",
    "print(\"Jumlah data untuk setiap kategori:\")\n",
    "print(counts)"
   ]
  },
  {
   "cell_type": "markdown",
   "metadata": {},
   "source": [
    "# Buatlah catatan dari hasil data preprocessing"
   ]
  },
  {
   "cell_type": "markdown",
   "metadata": {},
   "source": [
    "#### Importing required libraries"
   ]
  },
  {
   "cell_type": "code",
   "execution_count": 26,
   "metadata": {},
   "outputs": [],
   "source": [
    "import pandas as pd\n",
    "import numpy as np\n",
    "import matplotlib.pyplot as plt\n",
    "%matplotlib inline\n",
    "import seaborn as sns"
   ]
  },
  {
   "cell_type": "markdown",
   "metadata": {},
   "source": [
    "## 3. Data Splitting into train and test set"
   ]
  },
  {
   "cell_type": "code",
   "execution_count": 27,
   "metadata": {},
   "outputs": [
    {
     "name": "stdout",
     "output_type": "stream",
     "text": [
      "Ukuran train set:  (7903, 39)\n",
      "Ukuran test set:  (1976, 39)\n"
     ]
    }
   ],
   "source": [
    "from sklearn.model_selection import train_test_split\n",
    "\n",
    "# Memisahkan fitur dan target\n",
    "X = df.drop(\"blueWins\", axis=1)\n",
    "y = df[\"blueWins\"]\n",
    "\n",
    "# Membagi data menjadi train set dan test set dengan rasio 80:20\n",
    "X_train, X_test, y_train, y_test = train_test_split(X, y, test_size=0.2, random_state=42)\n",
    "\n",
    "# Menampilkan ukuran train set dan test set\n",
    "print(\"Ukuran train set: \", X_train.shape)\n",
    "print(\"Ukuran test set: \", X_test.shape)"
   ]
  },
  {
   "cell_type": "markdown",
   "metadata": {},
   "source": [
    "## 4. Feature Selection and Compare Each Model"
   ]
  },
  {
   "cell_type": "markdown",
   "metadata": {},
   "source": [
    "Method 1: Feature Selection using different methods and checking with different models"
   ]
  },
  {
   "cell_type": "markdown",
   "metadata": {},
   "source": [
    "Feature Selection using Feature importance of Random Forest Classifier"
   ]
  },
  {
   "cell_type": "code",
   "execution_count": 19,
   "metadata": {},
   "outputs": [
    {
     "name": "stdout",
     "output_type": "stream",
     "text": [
      "                           fitur  importance\n",
      "0                    redGoldDiff    0.084730\n",
      "1                   blueGoldDiff    0.083919\n",
      "2             blueExperienceDiff    0.069234\n",
      "3              redExperienceDiff    0.058215\n",
      "4                  blueTotalGold    0.053272\n",
      "5                 blueGoldPerMin    0.044044\n",
      "6             redTotalExperience    0.041061\n",
      "7                   redTotalGold    0.041013\n",
      "8                  redGoldPerMin    0.039985\n",
      "9            blueTotalExperience    0.037471\n",
      "10                        gameId    0.034959\n",
      "11         redTotalMinionsKilled    0.027364\n",
      "12  blueTotalJungleMinionsKilled    0.027308\n",
      "13                  blueCSPerMin    0.026744\n",
      "14                   redCSPerMin    0.026719\n",
      "15   redTotalJungleMinionsKilled    0.026650\n",
      "16        blueTotalMinionsKilled    0.025844\n",
      "17               blueWardsPlaced    0.025606\n",
      "18                redWardsPlaced    0.023772\n",
      "19                   blueAssists    0.019043\n",
      "20                    redAssists    0.018791\n",
      "21            blueWardsDestroyed    0.017026\n",
      "22             redWardsDestroyed    0.016365\n",
      "23                    blueDeaths    0.016239\n",
      "24                      redKills    0.015538\n",
      "25                     blueKills    0.014906\n",
      "26                     redDeaths    0.014534\n",
      "27                  blueAvgLevel    0.014168\n",
      "28                   redAvgLevel    0.013607\n",
      "29             blueEliteMonsters    0.007674\n",
      "30              redEliteMonsters    0.006873\n",
      "31                   blueDragons    0.005572\n",
      "32                    redDragons    0.005385\n",
      "33                blueFirstBlood    0.004047\n",
      "34                 redFirstBlood    0.003736\n",
      "35                   blueHeralds    0.003338\n",
      "36                    redHeralds    0.003083\n",
      "37            redTowersDestroyed    0.001181\n",
      "38           blueTowersDestroyed    0.000982\n",
      "Fitur yang terpilih:  ['redGoldDiff' 'blueGoldDiff' 'blueExperienceDiff' 'redExperienceDiff'\n",
      " 'blueTotalGold' 'blueGoldPerMin' 'redTotalExperience' 'redTotalGold'\n",
      " 'redGoldPerMin' 'blueTotalExperience' 'gameId' 'redTotalMinionsKilled'\n",
      " 'blueTotalJungleMinionsKilled' 'blueCSPerMin' 'redCSPerMin'\n",
      " 'redTotalJungleMinionsKilled' 'blueTotalMinionsKilled' 'blueWardsPlaced'\n",
      " 'redWardsPlaced' 'blueAssists' 'redAssists' 'blueWardsDestroyed'\n",
      " 'redWardsDestroyed' 'blueDeaths' 'redKills' 'blueKills' 'redDeaths'\n",
      " 'blueAvgLevel' 'redAvgLevel']\n"
     ]
    }
   ],
   "source": [
    "from sklearn.ensemble import RandomForestClassifier\n",
    "\n",
    "# Membuat instance Random Forest Classifier\n",
    "rfc = RandomForestClassifier(random_state=42)\n",
    "\n",
    "# Melakukan fitting pada data train\n",
    "rfc.fit(X_train, y_train)\n",
    "\n",
    "# Mengambil feature importance dari model\n",
    "importances = rfc.feature_importances_\n",
    "\n",
    "# Membuat DataFrame baru\n",
    "feat_imp_df = pd.DataFrame({\"fitur\": X_train.columns, \"importance\": importances})\n",
    "\n",
    "# Mengurutkan DataFrame baru berdasarkan nilai importance\n",
    "feat_imp_df = feat_imp_df.sort_values(\"importance\", ascending=False).reset_index(drop=True)\n",
    "\n",
    "# Menampilkan DataFrame baru\n",
    "print(feat_imp_df)\n",
    "\n",
    "# Memilih fitur-fitur yang memiliki importance di atas threshold 0.01\n",
    "selected_feat = feat_imp_df.loc[feat_imp_df[\"importance\"] > 0.01, \"fitur\"].values\n",
    "\n",
    "# Menampilkan fitur-fitur yang terpilih\n",
    "print(\"Fitur yang terpilih: \", selected_feat)"
   ]
  },
  {
   "cell_type": "markdown",
   "metadata": {},
   "source": [
    "Feature Selection using Recursive feature extraction (RFE)"
   ]
  },
  {
   "cell_type": "code",
   "execution_count": 20,
   "metadata": {},
   "outputs": [
    {
     "name": "stdout",
     "output_type": "stream",
     "text": [
      "                           fitur  ranking\n",
      "0                         gameId        1\n",
      "1              redExperienceDiff        1\n",
      "2                    redGoldDiff        1\n",
      "3             redTotalExperience        1\n",
      "4                   redTotalGold        1\n",
      "5             blueExperienceDiff        1\n",
      "6                   blueGoldDiff        1\n",
      "7            blueTotalExperience        1\n",
      "8                  blueTotalGold        1\n",
      "9                 blueGoldPerMin        1\n",
      "10                   redCSPerMin        2\n",
      "11                 redGoldPerMin        3\n",
      "12                  blueCSPerMin        4\n",
      "13  blueTotalJungleMinionsKilled        5\n",
      "14   redTotalJungleMinionsKilled        6\n",
      "15        blueTotalMinionsKilled        7\n",
      "16               blueWardsPlaced        8\n",
      "17         redTotalMinionsKilled        9\n",
      "18                redWardsPlaced       10\n",
      "19                   blueAssists       11\n",
      "20                    redAssists       12\n",
      "21             redWardsDestroyed       13\n",
      "22            blueWardsDestroyed       14\n",
      "23                     redDeaths       15\n",
      "24                    blueDeaths       16\n",
      "25                      redKills       17\n",
      "26                  blueAvgLevel       18\n",
      "27                     blueKills       19\n",
      "28                   redAvgLevel       20\n",
      "29             blueEliteMonsters       21\n",
      "30              redEliteMonsters       22\n",
      "31                   blueDragons       23\n",
      "32                    redDragons       24\n",
      "33                 redFirstBlood       25\n",
      "34                blueFirstBlood       26\n",
      "35                   blueHeralds       27\n",
      "36                    redHeralds       28\n",
      "37            redTowersDestroyed       29\n",
      "38           blueTowersDestroyed       30\n",
      "Fitur yang terpilih:  ['gameId' 'redExperienceDiff' 'redGoldDiff' 'redTotalExperience'\n",
      " 'redTotalGold' 'blueExperienceDiff' 'blueGoldDiff' 'blueTotalExperience'\n",
      " 'blueTotalGold' 'blueGoldPerMin' 'redCSPerMin' 'redGoldPerMin'\n",
      " 'blueCSPerMin' 'blueTotalJungleMinionsKilled'\n",
      " 'redTotalJungleMinionsKilled' 'blueTotalMinionsKilled' 'blueWardsPlaced'\n",
      " 'redTotalMinionsKilled' 'redWardsPlaced']\n"
     ]
    }
   ],
   "source": [
    "from sklearn.feature_selection import RFE\n",
    "from sklearn.ensemble import RandomForestClassifier\n",
    "\n",
    "# Membuat instance Random Forest Classifier\n",
    "rfc = RandomForestClassifier(random_state=42)\n",
    "\n",
    "# Membuat instance RFE dengan estimator Random Forest Classifier\n",
    "rfe = RFE(estimator=rfc, n_features_to_select=10, step=1)\n",
    "\n",
    "# Melakukan fitting pada data train dengan RFE\n",
    "rfe.fit(X_train, y_train)\n",
    "\n",
    "# Mengambil ranking fitur dari model RFE\n",
    "ranks = rfe.ranking_\n",
    "\n",
    "# Membuat DataFrame baru\n",
    "rfe_df = pd.DataFrame({\"fitur\": X_train.columns, \"ranking\": ranks})\n",
    "\n",
    "# Mengurutkan DataFrame baru berdasarkan ranking\n",
    "rfe_df = rfe_df.sort_values(\"ranking\", ascending=True).reset_index(drop=True)\n",
    "\n",
    "# Menampilkan DataFrame baru\n",
    "print(rfe_df)\n",
    "\n",
    "# Memilih fitur-fitur yang memiliki ranking di atas threshold 10\n",
    "selected_feat = rfe_df.loc[rfe_df[\"ranking\"] <= 10, \"fitur\"].values\n",
    "\n",
    "# Menampilkan fitur-fitur yang terpilih\n",
    "print(\"Fitur yang terpilih: \", selected_feat)"
   ]
  },
  {
   "cell_type": "markdown",
   "metadata": {},
   "source": [
    "## 5. Modelling and Evaluation\n"
   ]
  },
  {
   "cell_type": "code",
   "execution_count": 28,
   "metadata": {},
   "outputs": [
    {
     "name": "stdout",
     "output_type": "stream",
     "text": [
      "              precision    recall  f1-score   support\n",
      "\n",
      "           0       0.67      0.67      0.67       983\n",
      "           1       0.67      0.67      0.67       993\n",
      "\n",
      "    accuracy                           0.67      1976\n",
      "   macro avg       0.67      0.67      0.67      1976\n",
      "weighted avg       0.67      0.67      0.67      1976\n",
      "\n"
     ]
    }
   ],
   "source": [
    "from sklearn.neighbors import KNeighborsClassifier\n",
    "from sklearn.model_selection import train_test_split\n",
    "from sklearn.preprocessing import StandardScaler\n",
    "from sklearn.metrics import classification_report\n",
    "\n",
    "# Mengambil subset DataFrame hanya dengan fitur-fitur yang terpilih\n",
    "X = df[selected_feat]\n",
    "y = df[\"blueWins\"]\n",
    "\n",
    "# Melakukan pembagian data menjadi train dan test set\n",
    "X_train, X_test, y_train, y_test = train_test_split(X, y, test_size=0.2, random_state=42)\n",
    "\n",
    "# Melakukan scaling pada data train dan test\n",
    "scaler = StandardScaler()\n",
    "X_train_scaled = scaler.fit_transform(X_train)\n",
    "X_test_scaled = scaler.transform(X_test)\n",
    "\n",
    "# Membuat instance KNN\n",
    "knn = KNeighborsClassifier(n_neighbors=5)\n",
    "\n",
    "# Melakukan fitting pada data train dengan KNN\n",
    "knn.fit(X_train_scaled, y_train)\n",
    "\n",
    "# Melakukan prediksi pada data test\n",
    "y_pred = knn.predict(X_test_scaled)\n",
    "\n",
    "# Menghitung nilai akurasi, precision, recall, dan F1-score\n",
    "print(classification_report(y_test, y_pred))"
   ]
  },
  {
   "cell_type": "markdown",
   "metadata": {},
   "source": [
    "Dalam contoh di atas, kita menggunakan KNN dengan jumlah tetangga terdekat (k) sebesar 5. Outputnya akan menampilkan nilai akurasi, precision, recall, dan F1-score dari model KNN yang kita buat."
   ]
  },
  {
   "cell_type": "code",
   "execution_count": 30,
   "metadata": {},
   "outputs": [
    {
     "name": "stdout",
     "output_type": "stream",
     "text": [
      "              precision    recall  f1-score   support\n",
      "\n",
      "           0       0.68      0.71      0.70       983\n",
      "           1       0.70      0.68      0.69       993\n",
      "\n",
      "    accuracy                           0.69      1976\n",
      "   macro avg       0.69      0.69      0.69      1976\n",
      "weighted avg       0.69      0.69      0.69      1976\n",
      "\n"
     ]
    }
   ],
   "source": [
    "from sklearn.neighbors import KNeighborsClassifier\n",
    "from sklearn.model_selection import GridSearchCV\n",
    "from sklearn.preprocessing import StandardScaler\n",
    "\n",
    "# Mengambil subset DataFrame hanya dengan fitur-fitur yang terpilih\n",
    "X = df[selected_feat]\n",
    "y = df[\"blueWins\"]\n",
    "\n",
    "# Melakukan pembagian data menjadi train dan test set\n",
    "X_train, X_test, y_train, y_test = train_test_split(X, y, test_size=0.2, random_state=42)\n",
    "\n",
    "# Melakukan scaling pada data train dan test\n",
    "scaler = StandardScaler()\n",
    "X_train_scaled = scaler.fit_transform(X_train)\n",
    "X_test_scaled = scaler.transform(X_test)\n",
    "\n",
    "# Membuat instance KNN\n",
    "knn = KNeighborsClassifier()\n",
    "\n",
    "# Mencari nilai k terbaik dengan GridSearchCV\n",
    "params = {'n_neighbors': [3, 5, 7, 9, 11]}\n",
    "grid = GridSearchCV(knn, params, cv=5)\n",
    "grid.fit(X_train_scaled, y_train)\n",
    "\n",
    "# Melakukan prediksi pada data test dengan model KNN terbaik\n",
    "best_knn = grid.best_estimator_\n",
    "y_pred = best_knn.predict(X_test_scaled)\n",
    "\n",
    "# Menampilkan metrics evaluation score\n",
    "print(classification_report(y_test, y_pred))"
   ]
  },
  {
   "cell_type": "markdown",
   "metadata": {},
   "source": [
    "Dalam contoh di atas, kita mencoba beberapa nilai k yang berbeda dari 3 hingga 11 dan mencari nilai k yang menghasilkan akurasi terbaik dengan GridSearchCV(). Kita menggunakan cross-validation dengan cv=5. Setelah mendapatkan nilai k terbaik, kita melakukan prediksi pada data test dengan model KNN terbaik dan menampilkan nilai akurasi, precision, recall, dan F1-score dari model tersebut.\n",
    "\n",
    "Hasilnya akan tergantung pada dataset dan fitur-fitur yang digunakan. Namun, dalam umumnya, dengan melakukan hyperparameter tuning, kita dapat meningkatkan performa model KNN dan mendapatkan nilai akurasi yang lebih baik."
   ]
  }
 ],
 "metadata": {
  "kernelspec": {
   "display_name": "Python 3 (ipykernel)",
   "language": "python",
   "name": "python3"
  },
  "language_info": {
   "codemirror_mode": {
    "name": "ipython",
    "version": 3
   },
   "file_extension": ".py",
   "mimetype": "text/x-python",
   "name": "python",
   "nbconvert_exporter": "python",
   "pygments_lexer": "ipython3",
   "version": "3.10.9"
  },
  "vscode": {
   "interpreter": {
    "hash": "5e70fd34aa919644e731ce0c71c5ec6c66d3b48eb7909f9a04da7ee7076ef028"
   }
  }
 },
 "nbformat": 4,
 "nbformat_minor": 4
}
