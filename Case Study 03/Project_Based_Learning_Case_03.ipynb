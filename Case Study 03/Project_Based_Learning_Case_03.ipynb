{
  "cells": [
    {
      "cell_type": "markdown",
      "source": [
        "Versi [Google Collab](https://colab.research.google.com/drive/1ZIw3mrZhXZZSx3zhOB6nMcqepfLiJLRV#scrollTo=QwLGXNaqmGwf)"
      ],
      "metadata": {
        "id": "QwLGXNaqmGwf"
      }
    },
    {
      "cell_type": "markdown",
      "metadata": {
        "id": "_8tHeDPH-JQJ"
      },
      "source": [
        "### Context"
      ]
    },
    {
      "cell_type": "markdown",
      "metadata": {
        "id": "aj2AsIPe-JQK"
      },
      "source": [
        "League of Legends adalah MOBA (Multiplayer Online Battle Arena) di mana dalam permainannya terdapat 2 tim (biru dan merah) yang saling berhadapan. Dalam satu laga permainan, ada 3 jalur yang dijadikan medan perang, hutan dan pemainnya terbagi jadi 5 peran. Tujuan permainan ini adalah menjatuhkan Nexus atau base musuh dan memenangkan permainan."
      ]
    },
    {
      "cell_type": "markdown",
      "metadata": {
        "id": "Wjn-HTTX-JQL"
      },
      "source": [
        "### Content"
      ]
    },
    {
      "cell_type": "markdown",
      "metadata": {
        "id": "xuznbXse-JQL"
      },
      "source": [
        "Diketahui dataset berisi 10 menit dari pertandingan.  Game yang dimainkan berperingkat 10k (SOLO QUEUE Player) dari ELO Diamond I hingga level Master. ELO sendiri merupakan teknik pencarian pemain dengan peringkat atau tingkat keterampilan yang sejenis. Setiap permainan yang terjadi itu unik. GameId dapat membantu kamu mengambil lebih banyak atribut dari Riot API pada kolom dataset. \n",
        "\n",
        "Dari data Glossary & Variables, diketahui terdapat 19 fitur pertim (total 38) yang dikumpulkan setelah 10 menit game berlangsung. Data ini termasuk pembunuhan, kematian, emas, pengalaman dan level. Di sini kamu dibebaskan untuk melakukan beberapa rekayasa fitur untuk mendapatkan lebih banyak wawasan atau insight. \n",
        "\n",
        "Pada data diketahui juga bahwa kolom blueWins adalah nilai target atau nilai yang akan coba diprediksi, di mana jika Nilai 1 berarti tim biru menang, sedangkan jika Nilai 0 maka sebaliknya. "
      ]
    },
    {
      "cell_type": "markdown",
      "metadata": {
        "id": "KHN5-EYz-JQL"
      },
      "source": [
        "### Glossary"
      ]
    },
    {
      "cell_type": "markdown",
      "metadata": {
        "id": "Y0Swu_cV-JQL"
      },
      "source": [
        "- Warding totem: Item yang dapat diletakkan pemain di peta untuk mengungkap area terdekat. Sangat berguna untuk kontrol peta/tujuan. \n",
        "- Minions: Item yang dapat diletakkan pemain di peta untuk mengungkap area terdekat. Sangat berguna untuk kontrol peta/tujuan.\n",
        "- Jungle minions: NPC milik NO TEAM. Mereka memberi emas dan buff saat dibunuh oleh pemain.\n",
        "- Elite monsters: Monster dengan hp/damage tinggi yang memberikan bonus besar (gold/XP/stat) saat dibunuh oleh tim.\n",
        "- Dragons: Monster elit yang memberikan bonus tim saat terbunuh. Naga ke-4 yang dibunuh oleh tim memberikan bonus statistik yang sangat besar. The - - 5th dragon (Elder Dragon) menawarkan keuntungan besar bagi tim.\n",
        "- Herald: Monster elit yang memberikan bonus statistik saat dibunuh oleh pemain. Ini membantu untuk mendorong jalur dan menghancurkan struktur.\n",
        "- Towers: Struktur yang harus Anda hancurkan untuk mencapai Nexus musuh. Mereka memberi emas.\n",
        "- Level: Champion level. Mulai dari 1. Maksimal 18."
      ]
    },
    {
      "cell_type": "markdown",
      "metadata": {
        "id": "p2IE1RB4-JQM"
      },
      "source": [
        "### Variables"
      ]
    },
    {
      "cell_type": "markdown",
      "metadata": {
        "id": "I87QZypj-JQM"
      },
      "source": [
        "1. Gameid : ID RIOT unik dari game. Dapat digunakan dengan Riot Games API.\n",
        "2. Bluewins: Kolom target. 1 jika tim biru menang, 0 sebaliknya.\n",
        "3. blueWardsPlaced Jumlah totem penangkal yang ditempatkan oleh tim biru di peta\n",
        "4. blueWardsDestroyed : Jumlah totem penangkal musuh yang telah dihancurkan oleh tim biru\n",
        "5. blueFirstBlood : Pembunuhan pertama dari permainan. 1 jika tim biru melakukan pembunuhan pertama, 0 sebaliknya\n",
        "6. blueKills : Jumlah musuh yang dibunuh oleh tim biru\n",
        "7. blueDeaths : Jumlah kematian (tim biru)\n",
        "8. blueAssists : Jumlah assist kill (tim biru)\n",
        "9. blueEliteMonsters : Jumlah monster elit yang dibunuh oleh tim biru (Dragons and Heralds)\n",
        "10. blueDragons : Jumlah naga yang dibunuh oleh tim biru\n",
        "11. blueHeralds :  Jumlah tentara yang dibunuh oleh tim biru\n",
        "12. blueTowersDestroyed : Jumlah bangunan yang dihancurkan oleh tim biru (menara...)\n",
        "13. blueTotalGold : Tim biru total emas\n",
        "14. blueAvgLevel : Tingkat juara rata-rata tim biru\n",
        "15. blueTotalExperience : Pengalaman total tim biru\n",
        "16. blueTotalMinionsKilled : Total minion tim biru terbunuh (CS)\n",
        "17. blueTotalJungleMinionsKilled : Total monster hutan tim biru terbunuh\n",
        "18. blueGoldDiff : Perbedaan emas tim biru dibandingkan dengan tim musuh\n",
        "19. blueExperienceDiff : Tim biru mengalami perbedaan dibandingkan dengan tim musuh\n",
        "20. blueCSPerMin : CS tim biru (antek) per menit\n",
        "21. blueGoldPerMin : Emas tim biru per menit\n",
        "22. redWardsPlaced : Jumlah totem penangkal yang ditempatkan oleh tim merah di peta\n",
        "23. redWardsDestroyed : Jumlah totem penangkal musuh yang telah dihancurkan oleh tim merah\n",
        "24. redFirstBlood : Pembunuhan pertama dari permainan. 1 jika tim merah melakukan pembunuhan pertama, 0 sebaliknya\n",
        "25. redKills : Jumlah musuh yang dibunuh oleh tim merah\n",
        "26. redDeaths : Jumlah kematian (tim merah)\n",
        "27. redAssists: Jumlah assist kill (tim merah)\n",
        "28. redEliteMonsters : Jumlah monster elit yang dibunuh oleh tim merah (Dragons and Heralds)\n",
        "29. redDragons : Jumlah naga yang dibunuh oleh tim merah\n",
        "30. redHeralds: Jumlah bentara yang dibunuh oleh tim merah\n",
        "31. redTowersDestroyed : Jumlah bangunan yang dihancurkan oleh tim merah (menara)\n",
        "32. redTotalGold: Tim merah total emas\n",
        "33. redAvgLevel: Tingkat juara rata-rata tim merah\n",
        "34. redTotalExperience: Pengalaman total tim merah\n",
        "35. redTotalMinionsKilled : Total minion tim merah tewas (CS)\n",
        "36. redTotalJungleMinionsKilled : Total monster hutan tim merah terbunuh\n",
        "37. redGoldDiff : Perbedaan emas tim merah dibandingkan dengan tim musuh\n",
        "38. redExperienceDiff : Tim merah mengalami perbedaan dibandingkan dengan tim musuh\n",
        "39. redCSPerMin : CS tim merah (antek) per menit\n",
        "40. redGoldPerMin : Emas tim merah per menit"
      ]
    },
    {
      "cell_type": "markdown",
      "metadata": {
        "id": "w3T4mg5j-JQM"
      },
      "source": [
        "## 1. Importing libraries"
      ]
    },
    {
      "cell_type": "code",
      "execution_count": null,
      "metadata": {
        "id": "NMHb5-4S-JQM"
      },
      "outputs": [],
      "source": [
        "import pandas as pd\n",
        "import numpy as np\n",
        "import matplotlib.pyplot as plt\n",
        "%matplotlib inline\n",
        "import seaborn as sns"
      ]
    },
    {
      "cell_type": "code",
      "execution_count": null,
      "metadata": {
        "colab": {
          "base_uri": "https://localhost:8080/",
          "height": 300
        },
        "id": "xLNb-2eM-JQN",
        "outputId": "d681192a-ac2e-4df8-cea1-5dd29df68891"
      },
      "outputs": [
        {
          "output_type": "execute_result",
          "data": {
            "text/plain": [
              "       gameId  blueWins  blueWardsPlaced  blueWardsDestroyed  blueFirstBlood  \\\n",
              "0  4519157822         0               28                   2               1   \n",
              "1  4523371949         0               12                   1               0   \n",
              "2  4521474530         0               15                   0               0   \n",
              "3  4524384067         0               43                   1               0   \n",
              "4  4436033771         0               75                   4               0   \n",
              "\n",
              "   blueKills  blueDeaths  blueAssists  blueEliteMonsters  blueDragons  ...  \\\n",
              "0          9           6           11                  0            0  ...   \n",
              "1          5           5            5                  0            0  ...   \n",
              "2          7          11            4                  1            1  ...   \n",
              "3          4           5            5                  1            0  ...   \n",
              "4          6           6            6                  0            0  ...   \n",
              "\n",
              "   redTowersDestroyed  redTotalGold  redAvgLevel  redTotalExperience  \\\n",
              "0                   0         16567          6.8               17047   \n",
              "1                   1         17620          6.8               17438   \n",
              "2                   0         17285          6.8               17254   \n",
              "3                   0         16478          7.0               17961   \n",
              "4                   0         17404          7.0               18313   \n",
              "\n",
              "   redTotalMinionsKilled  redTotalJungleMinionsKilled  redGoldDiff  \\\n",
              "0                    197                           55         -643   \n",
              "1                    240                           52         2908   \n",
              "2                    203                           28         1172   \n",
              "3                    235                           47         1321   \n",
              "4                    225                           67         1004   \n",
              "\n",
              "   redExperienceDiff  redCSPerMin  redGoldPerMin  \n",
              "0                  8         19.7         1656.7  \n",
              "1               1173         24.0         1762.0  \n",
              "2               1033         20.3         1728.5  \n",
              "3                  7         23.5         1647.8  \n",
              "4               -230         22.5         1740.4  \n",
              "\n",
              "[5 rows x 40 columns]"
            ],
            "text/html": [
              "\n",
              "  <div id=\"df-fffd87ce-6707-47be-a9ea-ab55a64b5e56\">\n",
              "    <div class=\"colab-df-container\">\n",
              "      <div>\n",
              "<style scoped>\n",
              "    .dataframe tbody tr th:only-of-type {\n",
              "        vertical-align: middle;\n",
              "    }\n",
              "\n",
              "    .dataframe tbody tr th {\n",
              "        vertical-align: top;\n",
              "    }\n",
              "\n",
              "    .dataframe thead th {\n",
              "        text-align: right;\n",
              "    }\n",
              "</style>\n",
              "<table border=\"1\" class=\"dataframe\">\n",
              "  <thead>\n",
              "    <tr style=\"text-align: right;\">\n",
              "      <th></th>\n",
              "      <th>gameId</th>\n",
              "      <th>blueWins</th>\n",
              "      <th>blueWardsPlaced</th>\n",
              "      <th>blueWardsDestroyed</th>\n",
              "      <th>blueFirstBlood</th>\n",
              "      <th>blueKills</th>\n",
              "      <th>blueDeaths</th>\n",
              "      <th>blueAssists</th>\n",
              "      <th>blueEliteMonsters</th>\n",
              "      <th>blueDragons</th>\n",
              "      <th>...</th>\n",
              "      <th>redTowersDestroyed</th>\n",
              "      <th>redTotalGold</th>\n",
              "      <th>redAvgLevel</th>\n",
              "      <th>redTotalExperience</th>\n",
              "      <th>redTotalMinionsKilled</th>\n",
              "      <th>redTotalJungleMinionsKilled</th>\n",
              "      <th>redGoldDiff</th>\n",
              "      <th>redExperienceDiff</th>\n",
              "      <th>redCSPerMin</th>\n",
              "      <th>redGoldPerMin</th>\n",
              "    </tr>\n",
              "  </thead>\n",
              "  <tbody>\n",
              "    <tr>\n",
              "      <th>0</th>\n",
              "      <td>4519157822</td>\n",
              "      <td>0</td>\n",
              "      <td>28</td>\n",
              "      <td>2</td>\n",
              "      <td>1</td>\n",
              "      <td>9</td>\n",
              "      <td>6</td>\n",
              "      <td>11</td>\n",
              "      <td>0</td>\n",
              "      <td>0</td>\n",
              "      <td>...</td>\n",
              "      <td>0</td>\n",
              "      <td>16567</td>\n",
              "      <td>6.8</td>\n",
              "      <td>17047</td>\n",
              "      <td>197</td>\n",
              "      <td>55</td>\n",
              "      <td>-643</td>\n",
              "      <td>8</td>\n",
              "      <td>19.7</td>\n",
              "      <td>1656.7</td>\n",
              "    </tr>\n",
              "    <tr>\n",
              "      <th>1</th>\n",
              "      <td>4523371949</td>\n",
              "      <td>0</td>\n",
              "      <td>12</td>\n",
              "      <td>1</td>\n",
              "      <td>0</td>\n",
              "      <td>5</td>\n",
              "      <td>5</td>\n",
              "      <td>5</td>\n",
              "      <td>0</td>\n",
              "      <td>0</td>\n",
              "      <td>...</td>\n",
              "      <td>1</td>\n",
              "      <td>17620</td>\n",
              "      <td>6.8</td>\n",
              "      <td>17438</td>\n",
              "      <td>240</td>\n",
              "      <td>52</td>\n",
              "      <td>2908</td>\n",
              "      <td>1173</td>\n",
              "      <td>24.0</td>\n",
              "      <td>1762.0</td>\n",
              "    </tr>\n",
              "    <tr>\n",
              "      <th>2</th>\n",
              "      <td>4521474530</td>\n",
              "      <td>0</td>\n",
              "      <td>15</td>\n",
              "      <td>0</td>\n",
              "      <td>0</td>\n",
              "      <td>7</td>\n",
              "      <td>11</td>\n",
              "      <td>4</td>\n",
              "      <td>1</td>\n",
              "      <td>1</td>\n",
              "      <td>...</td>\n",
              "      <td>0</td>\n",
              "      <td>17285</td>\n",
              "      <td>6.8</td>\n",
              "      <td>17254</td>\n",
              "      <td>203</td>\n",
              "      <td>28</td>\n",
              "      <td>1172</td>\n",
              "      <td>1033</td>\n",
              "      <td>20.3</td>\n",
              "      <td>1728.5</td>\n",
              "    </tr>\n",
              "    <tr>\n",
              "      <th>3</th>\n",
              "      <td>4524384067</td>\n",
              "      <td>0</td>\n",
              "      <td>43</td>\n",
              "      <td>1</td>\n",
              "      <td>0</td>\n",
              "      <td>4</td>\n",
              "      <td>5</td>\n",
              "      <td>5</td>\n",
              "      <td>1</td>\n",
              "      <td>0</td>\n",
              "      <td>...</td>\n",
              "      <td>0</td>\n",
              "      <td>16478</td>\n",
              "      <td>7.0</td>\n",
              "      <td>17961</td>\n",
              "      <td>235</td>\n",
              "      <td>47</td>\n",
              "      <td>1321</td>\n",
              "      <td>7</td>\n",
              "      <td>23.5</td>\n",
              "      <td>1647.8</td>\n",
              "    </tr>\n",
              "    <tr>\n",
              "      <th>4</th>\n",
              "      <td>4436033771</td>\n",
              "      <td>0</td>\n",
              "      <td>75</td>\n",
              "      <td>4</td>\n",
              "      <td>0</td>\n",
              "      <td>6</td>\n",
              "      <td>6</td>\n",
              "      <td>6</td>\n",
              "      <td>0</td>\n",
              "      <td>0</td>\n",
              "      <td>...</td>\n",
              "      <td>0</td>\n",
              "      <td>17404</td>\n",
              "      <td>7.0</td>\n",
              "      <td>18313</td>\n",
              "      <td>225</td>\n",
              "      <td>67</td>\n",
              "      <td>1004</td>\n",
              "      <td>-230</td>\n",
              "      <td>22.5</td>\n",
              "      <td>1740.4</td>\n",
              "    </tr>\n",
              "  </tbody>\n",
              "</table>\n",
              "<p>5 rows × 40 columns</p>\n",
              "</div>\n",
              "      <button class=\"colab-df-convert\" onclick=\"convertToInteractive('df-fffd87ce-6707-47be-a9ea-ab55a64b5e56')\"\n",
              "              title=\"Convert this dataframe to an interactive table.\"\n",
              "              style=\"display:none;\">\n",
              "        \n",
              "  <svg xmlns=\"http://www.w3.org/2000/svg\" height=\"24px\"viewBox=\"0 0 24 24\"\n",
              "       width=\"24px\">\n",
              "    <path d=\"M0 0h24v24H0V0z\" fill=\"none\"/>\n",
              "    <path d=\"M18.56 5.44l.94 2.06.94-2.06 2.06-.94-2.06-.94-.94-2.06-.94 2.06-2.06.94zm-11 1L8.5 8.5l.94-2.06 2.06-.94-2.06-.94L8.5 2.5l-.94 2.06-2.06.94zm10 10l.94 2.06.94-2.06 2.06-.94-2.06-.94-.94-2.06-.94 2.06-2.06.94z\"/><path d=\"M17.41 7.96l-1.37-1.37c-.4-.4-.92-.59-1.43-.59-.52 0-1.04.2-1.43.59L10.3 9.45l-7.72 7.72c-.78.78-.78 2.05 0 2.83L4 21.41c.39.39.9.59 1.41.59.51 0 1.02-.2 1.41-.59l7.78-7.78 2.81-2.81c.8-.78.8-2.07 0-2.86zM5.41 20L4 18.59l7.72-7.72 1.47 1.35L5.41 20z\"/>\n",
              "  </svg>\n",
              "      </button>\n",
              "      \n",
              "  <style>\n",
              "    .colab-df-container {\n",
              "      display:flex;\n",
              "      flex-wrap:wrap;\n",
              "      gap: 12px;\n",
              "    }\n",
              "\n",
              "    .colab-df-convert {\n",
              "      background-color: #E8F0FE;\n",
              "      border: none;\n",
              "      border-radius: 50%;\n",
              "      cursor: pointer;\n",
              "      display: none;\n",
              "      fill: #1967D2;\n",
              "      height: 32px;\n",
              "      padding: 0 0 0 0;\n",
              "      width: 32px;\n",
              "    }\n",
              "\n",
              "    .colab-df-convert:hover {\n",
              "      background-color: #E2EBFA;\n",
              "      box-shadow: 0px 1px 2px rgba(60, 64, 67, 0.3), 0px 1px 3px 1px rgba(60, 64, 67, 0.15);\n",
              "      fill: #174EA6;\n",
              "    }\n",
              "\n",
              "    [theme=dark] .colab-df-convert {\n",
              "      background-color: #3B4455;\n",
              "      fill: #D2E3FC;\n",
              "    }\n",
              "\n",
              "    [theme=dark] .colab-df-convert:hover {\n",
              "      background-color: #434B5C;\n",
              "      box-shadow: 0px 1px 3px 1px rgba(0, 0, 0, 0.15);\n",
              "      filter: drop-shadow(0px 1px 2px rgba(0, 0, 0, 0.3));\n",
              "      fill: #FFFFFF;\n",
              "    }\n",
              "  </style>\n",
              "\n",
              "      <script>\n",
              "        const buttonEl =\n",
              "          document.querySelector('#df-fffd87ce-6707-47be-a9ea-ab55a64b5e56 button.colab-df-convert');\n",
              "        buttonEl.style.display =\n",
              "          google.colab.kernel.accessAllowed ? 'block' : 'none';\n",
              "\n",
              "        async function convertToInteractive(key) {\n",
              "          const element = document.querySelector('#df-fffd87ce-6707-47be-a9ea-ab55a64b5e56');\n",
              "          const dataTable =\n",
              "            await google.colab.kernel.invokeFunction('convertToInteractive',\n",
              "                                                     [key], {});\n",
              "          if (!dataTable) return;\n",
              "\n",
              "          const docLinkHtml = 'Like what you see? Visit the ' +\n",
              "            '<a target=\"_blank\" href=https://colab.research.google.com/notebooks/data_table.ipynb>data table notebook</a>'\n",
              "            + ' to learn more about interactive tables.';\n",
              "          element.innerHTML = '';\n",
              "          dataTable['output_type'] = 'display_data';\n",
              "          await google.colab.output.renderOutput(dataTable, element);\n",
              "          const docLink = document.createElement('div');\n",
              "          docLink.innerHTML = docLinkHtml;\n",
              "          element.appendChild(docLink);\n",
              "        }\n",
              "      </script>\n",
              "    </div>\n",
              "  </div>\n",
              "  "
            ]
          },
          "metadata": {},
          "execution_count": 29
        }
      ],
      "source": [
        "# Import Data\n",
        "\n",
        "df = pd.read_csv('https://raw.githubusercontent.com/fikriazh/Template-Project-Data-Science/main/Case%20Study%2003/high_diamond_ranked_10min.csv')\n",
        "\n",
        "# Menampilkan 5 baris teratas dari dataset\n",
        "df.head()"
      ]
    },
    {
      "cell_type": "code",
      "execution_count": null,
      "metadata": {
        "colab": {
          "base_uri": "https://localhost:8080/"
        },
        "id": "_Jl5e0zC-JQO",
        "outputId": "5809dd00-e002-4cf2-884f-e6a993069f1a"
      },
      "outputs": [
        {
          "output_type": "execute_result",
          "data": {
            "text/plain": [
              "(9879, 40)"
            ]
          },
          "metadata": {},
          "execution_count": 30
        }
      ],
      "source": [
        "# Checking the shape of the data\n",
        "\n",
        "df.shape"
      ]
    },
    {
      "cell_type": "markdown",
      "metadata": {
        "id": "cLGKbb2i-JQO"
      },
      "source": [
        "## 2. Basic EDA & Data Preprocessing"
      ]
    },
    {
      "cell_type": "code",
      "execution_count": null,
      "metadata": {
        "colab": {
          "base_uri": "https://localhost:8080/"
        },
        "id": "rwxy8Gv4-JQO",
        "outputId": "2059d0a9-828c-4a1e-ff3b-be8b71052051"
      },
      "outputs": [
        {
          "output_type": "stream",
          "name": "stdout",
          "text": [
            "Total nilai null dalam seluruh data:  0\n"
          ]
        }
      ],
      "source": [
        "# Checking null values\n",
        "\n",
        "total_null = df.isnull().sum().sum()\n",
        "\n",
        "print(\"Total nilai null dalam seluruh data: \", total_null)"
      ]
    },
    {
      "cell_type": "code",
      "execution_count": null,
      "metadata": {
        "colab": {
          "base_uri": "https://localhost:8080/"
        },
        "id": "B3gyZiip-JQO",
        "outputId": "93a3b430-800e-4f44-8735-1a1b2d820df5"
      },
      "outputs": [
        {
          "output_type": "stream",
          "name": "stdout",
          "text": [
            "gameId                            int64\n",
            "blueWins                          int64\n",
            "blueWardsPlaced                   int64\n",
            "blueWardsDestroyed                int64\n",
            "blueFirstBlood                    int64\n",
            "blueKills                         int64\n",
            "blueDeaths                        int64\n",
            "blueAssists                       int64\n",
            "blueEliteMonsters                 int64\n",
            "blueDragons                       int64\n",
            "blueHeralds                       int64\n",
            "blueTowersDestroyed               int64\n",
            "blueTotalGold                     int64\n",
            "blueAvgLevel                    float64\n",
            "blueTotalExperience               int64\n",
            "blueTotalMinionsKilled            int64\n",
            "blueTotalJungleMinionsKilled      int64\n",
            "blueGoldDiff                      int64\n",
            "blueExperienceDiff                int64\n",
            "blueCSPerMin                    float64\n",
            "blueGoldPerMin                  float64\n",
            "redWardsPlaced                    int64\n",
            "redWardsDestroyed                 int64\n",
            "redFirstBlood                     int64\n",
            "redKills                          int64\n",
            "redDeaths                         int64\n",
            "redAssists                        int64\n",
            "redEliteMonsters                  int64\n",
            "redDragons                        int64\n",
            "redHeralds                        int64\n",
            "redTowersDestroyed                int64\n",
            "redTotalGold                      int64\n",
            "redAvgLevel                     float64\n",
            "redTotalExperience                int64\n",
            "redTotalMinionsKilled             int64\n",
            "redTotalJungleMinionsKilled       int64\n",
            "redGoldDiff                       int64\n",
            "redExperienceDiff                 int64\n",
            "redCSPerMin                     float64\n",
            "redGoldPerMin                   float64\n",
            "dtype: object\n"
          ]
        }
      ],
      "source": [
        "# checking data types of the columns\n",
        "\n",
        "print(df.dtypes)"
      ]
    },
    {
      "cell_type": "code",
      "execution_count": null,
      "metadata": {
        "colab": {
          "base_uri": "https://localhost:8080/",
          "height": 300
        },
        "id": "o4Pq-Q3P-JQO",
        "outputId": "addb535d-e917-4daf-e66b-ec89b0ec8e7f"
      },
      "outputs": [
        {
          "output_type": "execute_result",
          "data": {
            "text/plain": [
              "         gameId  blueWins  blueWardsPlaced  blueWardsDestroyed  \\\n",
              "0  4.519158e+09       0.0             28.0                 2.0   \n",
              "1  4.523372e+09       0.0             12.0                 1.0   \n",
              "2  4.521475e+09       0.0             15.0                 0.0   \n",
              "3  4.524384e+09       0.0             43.0                 1.0   \n",
              "4  4.436034e+09       0.0             75.0                 4.0   \n",
              "\n",
              "   blueFirstBlood  blueKills  blueDeaths  blueAssists  blueEliteMonsters  \\\n",
              "0             1.0        9.0         6.0         11.0                0.0   \n",
              "1             0.0        5.0         5.0          5.0                0.0   \n",
              "2             0.0        7.0        11.0          4.0                1.0   \n",
              "3             0.0        4.0         5.0          5.0                1.0   \n",
              "4             0.0        6.0         6.0          6.0                0.0   \n",
              "\n",
              "   blueDragons  ...  redTowersDestroyed  redTotalGold  redAvgLevel  \\\n",
              "0          0.0  ...                 0.0       16567.0          6.8   \n",
              "1          0.0  ...                 1.0       17620.0          6.8   \n",
              "2          1.0  ...                 0.0       17285.0          6.8   \n",
              "3          0.0  ...                 0.0       16478.0          7.0   \n",
              "4          0.0  ...                 0.0       17404.0          7.0   \n",
              "\n",
              "   redTotalExperience  redTotalMinionsKilled  redTotalJungleMinionsKilled  \\\n",
              "0             17047.0                  197.0                         55.0   \n",
              "1             17438.0                  240.0                         52.0   \n",
              "2             17254.0                  203.0                         28.0   \n",
              "3             17961.0                  235.0                         47.0   \n",
              "4             18313.0                  225.0                         67.0   \n",
              "\n",
              "   redGoldDiff  redExperienceDiff  redCSPerMin  redGoldPerMin  \n",
              "0       -643.0                8.0         19.7         1656.7  \n",
              "1       2908.0             1173.0         24.0         1762.0  \n",
              "2       1172.0             1033.0         20.3         1728.5  \n",
              "3       1321.0                7.0         23.5         1647.8  \n",
              "4       1004.0             -230.0         22.5         1740.4  \n",
              "\n",
              "[5 rows x 40 columns]"
            ],
            "text/html": [
              "\n",
              "  <div id=\"df-2db4c031-b5a1-4524-b83f-b804b12788de\">\n",
              "    <div class=\"colab-df-container\">\n",
              "      <div>\n",
              "<style scoped>\n",
              "    .dataframe tbody tr th:only-of-type {\n",
              "        vertical-align: middle;\n",
              "    }\n",
              "\n",
              "    .dataframe tbody tr th {\n",
              "        vertical-align: top;\n",
              "    }\n",
              "\n",
              "    .dataframe thead th {\n",
              "        text-align: right;\n",
              "    }\n",
              "</style>\n",
              "<table border=\"1\" class=\"dataframe\">\n",
              "  <thead>\n",
              "    <tr style=\"text-align: right;\">\n",
              "      <th></th>\n",
              "      <th>gameId</th>\n",
              "      <th>blueWins</th>\n",
              "      <th>blueWardsPlaced</th>\n",
              "      <th>blueWardsDestroyed</th>\n",
              "      <th>blueFirstBlood</th>\n",
              "      <th>blueKills</th>\n",
              "      <th>blueDeaths</th>\n",
              "      <th>blueAssists</th>\n",
              "      <th>blueEliteMonsters</th>\n",
              "      <th>blueDragons</th>\n",
              "      <th>...</th>\n",
              "      <th>redTowersDestroyed</th>\n",
              "      <th>redTotalGold</th>\n",
              "      <th>redAvgLevel</th>\n",
              "      <th>redTotalExperience</th>\n",
              "      <th>redTotalMinionsKilled</th>\n",
              "      <th>redTotalJungleMinionsKilled</th>\n",
              "      <th>redGoldDiff</th>\n",
              "      <th>redExperienceDiff</th>\n",
              "      <th>redCSPerMin</th>\n",
              "      <th>redGoldPerMin</th>\n",
              "    </tr>\n",
              "  </thead>\n",
              "  <tbody>\n",
              "    <tr>\n",
              "      <th>0</th>\n",
              "      <td>4.519158e+09</td>\n",
              "      <td>0.0</td>\n",
              "      <td>28.0</td>\n",
              "      <td>2.0</td>\n",
              "      <td>1.0</td>\n",
              "      <td>9.0</td>\n",
              "      <td>6.0</td>\n",
              "      <td>11.0</td>\n",
              "      <td>0.0</td>\n",
              "      <td>0.0</td>\n",
              "      <td>...</td>\n",
              "      <td>0.0</td>\n",
              "      <td>16567.0</td>\n",
              "      <td>6.8</td>\n",
              "      <td>17047.0</td>\n",
              "      <td>197.0</td>\n",
              "      <td>55.0</td>\n",
              "      <td>-643.0</td>\n",
              "      <td>8.0</td>\n",
              "      <td>19.7</td>\n",
              "      <td>1656.7</td>\n",
              "    </tr>\n",
              "    <tr>\n",
              "      <th>1</th>\n",
              "      <td>4.523372e+09</td>\n",
              "      <td>0.0</td>\n",
              "      <td>12.0</td>\n",
              "      <td>1.0</td>\n",
              "      <td>0.0</td>\n",
              "      <td>5.0</td>\n",
              "      <td>5.0</td>\n",
              "      <td>5.0</td>\n",
              "      <td>0.0</td>\n",
              "      <td>0.0</td>\n",
              "      <td>...</td>\n",
              "      <td>1.0</td>\n",
              "      <td>17620.0</td>\n",
              "      <td>6.8</td>\n",
              "      <td>17438.0</td>\n",
              "      <td>240.0</td>\n",
              "      <td>52.0</td>\n",
              "      <td>2908.0</td>\n",
              "      <td>1173.0</td>\n",
              "      <td>24.0</td>\n",
              "      <td>1762.0</td>\n",
              "    </tr>\n",
              "    <tr>\n",
              "      <th>2</th>\n",
              "      <td>4.521475e+09</td>\n",
              "      <td>0.0</td>\n",
              "      <td>15.0</td>\n",
              "      <td>0.0</td>\n",
              "      <td>0.0</td>\n",
              "      <td>7.0</td>\n",
              "      <td>11.0</td>\n",
              "      <td>4.0</td>\n",
              "      <td>1.0</td>\n",
              "      <td>1.0</td>\n",
              "      <td>...</td>\n",
              "      <td>0.0</td>\n",
              "      <td>17285.0</td>\n",
              "      <td>6.8</td>\n",
              "      <td>17254.0</td>\n",
              "      <td>203.0</td>\n",
              "      <td>28.0</td>\n",
              "      <td>1172.0</td>\n",
              "      <td>1033.0</td>\n",
              "      <td>20.3</td>\n",
              "      <td>1728.5</td>\n",
              "    </tr>\n",
              "    <tr>\n",
              "      <th>3</th>\n",
              "      <td>4.524384e+09</td>\n",
              "      <td>0.0</td>\n",
              "      <td>43.0</td>\n",
              "      <td>1.0</td>\n",
              "      <td>0.0</td>\n",
              "      <td>4.0</td>\n",
              "      <td>5.0</td>\n",
              "      <td>5.0</td>\n",
              "      <td>1.0</td>\n",
              "      <td>0.0</td>\n",
              "      <td>...</td>\n",
              "      <td>0.0</td>\n",
              "      <td>16478.0</td>\n",
              "      <td>7.0</td>\n",
              "      <td>17961.0</td>\n",
              "      <td>235.0</td>\n",
              "      <td>47.0</td>\n",
              "      <td>1321.0</td>\n",
              "      <td>7.0</td>\n",
              "      <td>23.5</td>\n",
              "      <td>1647.8</td>\n",
              "    </tr>\n",
              "    <tr>\n",
              "      <th>4</th>\n",
              "      <td>4.436034e+09</td>\n",
              "      <td>0.0</td>\n",
              "      <td>75.0</td>\n",
              "      <td>4.0</td>\n",
              "      <td>0.0</td>\n",
              "      <td>6.0</td>\n",
              "      <td>6.0</td>\n",
              "      <td>6.0</td>\n",
              "      <td>0.0</td>\n",
              "      <td>0.0</td>\n",
              "      <td>...</td>\n",
              "      <td>0.0</td>\n",
              "      <td>17404.0</td>\n",
              "      <td>7.0</td>\n",
              "      <td>18313.0</td>\n",
              "      <td>225.0</td>\n",
              "      <td>67.0</td>\n",
              "      <td>1004.0</td>\n",
              "      <td>-230.0</td>\n",
              "      <td>22.5</td>\n",
              "      <td>1740.4</td>\n",
              "    </tr>\n",
              "  </tbody>\n",
              "</table>\n",
              "<p>5 rows × 40 columns</p>\n",
              "</div>\n",
              "      <button class=\"colab-df-convert\" onclick=\"convertToInteractive('df-2db4c031-b5a1-4524-b83f-b804b12788de')\"\n",
              "              title=\"Convert this dataframe to an interactive table.\"\n",
              "              style=\"display:none;\">\n",
              "        \n",
              "  <svg xmlns=\"http://www.w3.org/2000/svg\" height=\"24px\"viewBox=\"0 0 24 24\"\n",
              "       width=\"24px\">\n",
              "    <path d=\"M0 0h24v24H0V0z\" fill=\"none\"/>\n",
              "    <path d=\"M18.56 5.44l.94 2.06.94-2.06 2.06-.94-2.06-.94-.94-2.06-.94 2.06-2.06.94zm-11 1L8.5 8.5l.94-2.06 2.06-.94-2.06-.94L8.5 2.5l-.94 2.06-2.06.94zm10 10l.94 2.06.94-2.06 2.06-.94-2.06-.94-.94-2.06-.94 2.06-2.06.94z\"/><path d=\"M17.41 7.96l-1.37-1.37c-.4-.4-.92-.59-1.43-.59-.52 0-1.04.2-1.43.59L10.3 9.45l-7.72 7.72c-.78.78-.78 2.05 0 2.83L4 21.41c.39.39.9.59 1.41.59.51 0 1.02-.2 1.41-.59l7.78-7.78 2.81-2.81c.8-.78.8-2.07 0-2.86zM5.41 20L4 18.59l7.72-7.72 1.47 1.35L5.41 20z\"/>\n",
              "  </svg>\n",
              "      </button>\n",
              "      \n",
              "  <style>\n",
              "    .colab-df-container {\n",
              "      display:flex;\n",
              "      flex-wrap:wrap;\n",
              "      gap: 12px;\n",
              "    }\n",
              "\n",
              "    .colab-df-convert {\n",
              "      background-color: #E8F0FE;\n",
              "      border: none;\n",
              "      border-radius: 50%;\n",
              "      cursor: pointer;\n",
              "      display: none;\n",
              "      fill: #1967D2;\n",
              "      height: 32px;\n",
              "      padding: 0 0 0 0;\n",
              "      width: 32px;\n",
              "    }\n",
              "\n",
              "    .colab-df-convert:hover {\n",
              "      background-color: #E2EBFA;\n",
              "      box-shadow: 0px 1px 2px rgba(60, 64, 67, 0.3), 0px 1px 3px 1px rgba(60, 64, 67, 0.15);\n",
              "      fill: #174EA6;\n",
              "    }\n",
              "\n",
              "    [theme=dark] .colab-df-convert {\n",
              "      background-color: #3B4455;\n",
              "      fill: #D2E3FC;\n",
              "    }\n",
              "\n",
              "    [theme=dark] .colab-df-convert:hover {\n",
              "      background-color: #434B5C;\n",
              "      box-shadow: 0px 1px 3px 1px rgba(0, 0, 0, 0.15);\n",
              "      filter: drop-shadow(0px 1px 2px rgba(0, 0, 0, 0.3));\n",
              "      fill: #FFFFFF;\n",
              "    }\n",
              "  </style>\n",
              "\n",
              "      <script>\n",
              "        const buttonEl =\n",
              "          document.querySelector('#df-2db4c031-b5a1-4524-b83f-b804b12788de button.colab-df-convert');\n",
              "        buttonEl.style.display =\n",
              "          google.colab.kernel.accessAllowed ? 'block' : 'none';\n",
              "\n",
              "        async function convertToInteractive(key) {\n",
              "          const element = document.querySelector('#df-2db4c031-b5a1-4524-b83f-b804b12788de');\n",
              "          const dataTable =\n",
              "            await google.colab.kernel.invokeFunction('convertToInteractive',\n",
              "                                                     [key], {});\n",
              "          if (!dataTable) return;\n",
              "\n",
              "          const docLinkHtml = 'Like what you see? Visit the ' +\n",
              "            '<a target=\"_blank\" href=https://colab.research.google.com/notebooks/data_table.ipynb>data table notebook</a>'\n",
              "            + ' to learn more about interactive tables.';\n",
              "          element.innerHTML = '';\n",
              "          dataTable['output_type'] = 'display_data';\n",
              "          await google.colab.output.renderOutput(dataTable, element);\n",
              "          const docLink = document.createElement('div');\n",
              "          docLink.innerHTML = docLinkHtml;\n",
              "          element.appendChild(docLink);\n",
              "        }\n",
              "      </script>\n",
              "    </div>\n",
              "  </div>\n",
              "  "
            ]
          },
          "metadata": {},
          "execution_count": 33
        }
      ],
      "source": [
        "#checking for quasi constants\n",
        "\n",
        "from sklearn.feature_selection import VarianceThreshold\n",
        "\n",
        "# Membuat instance VarianceThreshold dengan threshold 0.01\n",
        "selector = VarianceThreshold(threshold=0.01)\n",
        "\n",
        "# Melakukan fit transform pada data\n",
        "X = selector.fit_transform(df)\n",
        "\n",
        "# Mengubah hasil transformasi menjadi DataFrame\n",
        "df_new = pd.DataFrame(X, columns=df.columns[selector.get_support()])\n",
        "\n",
        "# Menampilkan hasil transformasi\n",
        "df_new.head()"
      ]
    },
    {
      "cell_type": "code",
      "execution_count": null,
      "metadata": {
        "colab": {
          "base_uri": "https://localhost:8080/",
          "height": 467
        },
        "id": "kJGda9d9-JQO",
        "outputId": "83566d15-8ae2-4a94-fc57-7ed6b19cabf7"
      },
      "outputs": [
        {
          "output_type": "display_data",
          "data": {
            "text/plain": [
              "<Figure size 640x480 with 1 Axes>"
            ],
            "image/png": "[encoded data removed]"
          },
          "metadata": {}
        }
      ],
      "source": [
        "# Bar plot of the outcomes to see how they are distributed\n",
        "\n",
        "import matplotlib.pyplot as plt\n",
        "\n",
        "# Membuat bar plot dari kolom target (kolom \"blueWins\")\n",
        "df[\"blueWins\"].value_counts().plot(kind=\"bar\")\n",
        "plt.title(\"Distribusi kolom target\")\n",
        "plt.xlabel(\"blueWins\")\n",
        "plt.ylabel(\"Jumlah\")\n",
        "plt.show()"
      ]
    },
    {
      "cell_type": "code",
      "execution_count": null,
      "metadata": {
        "colab": {
          "base_uri": "https://localhost:8080/"
        },
        "id": "Gheu39A9-JQP",
        "outputId": "1e8d7321-42f2-4a4e-b4d1-4df7461457e8"
      },
      "outputs": [
        {
          "output_type": "stream",
          "name": "stdout",
          "text": [
            "Jumlah data untuk setiap kategori:\n",
            "0    4949\n",
            "1    4930\n",
            "Name: blueWins, dtype: int64\n"
          ]
        }
      ],
      "source": [
        "# Value counts data blueWins\n",
        "\n",
        "counts = df[\"blueWins\"].value_counts()\n",
        "\n",
        "print(\"Jumlah data untuk setiap kategori:\")\n",
        "print(counts)"
      ]
    },
    {
      "cell_type": "markdown",
      "metadata": {
        "id": "Hfr_IJlh-JQP"
      },
      "source": [
        "# Buatlah catatan dari hasil data preprocessing"
      ]
    },
    {
      "cell_type": "markdown",
      "metadata": {
        "id": "vPc0djw0-JQP"
      },
      "source": [
        "#### Importing required libraries"
      ]
    },
    {
      "cell_type": "code",
      "execution_count": null,
      "metadata": {
        "id": "bjnlOY96-JQP"
      },
      "outputs": [],
      "source": [
        "import pandas as pd\n",
        "import numpy as np\n",
        "import matplotlib.pyplot as plt\n",
        "%matplotlib inline\n",
        "import seaborn as sns"
      ]
    },
    {
      "cell_type": "markdown",
      "metadata": {
        "id": "5i6Izsvy-JQP"
      },
      "source": [
        "## 3. Data Splitting into train and test set"
      ]
    },
    {
      "cell_type": "code",
      "execution_count": null,
      "metadata": {
        "colab": {
          "base_uri": "https://localhost:8080/"
        },
        "id": "UK3aycaZ-JQP",
        "outputId": "7d352cf9-095e-4c85-863b-e0a90993f2df"
      },
      "outputs": [
        {
          "output_type": "stream",
          "name": "stdout",
          "text": [
            "Ukuran train set:  (7903, 39)\n",
            "Ukuran test set:  (1976, 39)\n"
          ]
        }
      ],
      "source": [
        "from sklearn.model_selection import train_test_split\n",
        "\n",
        "# Memisahkan fitur dan target\n",
        "X = df.drop(\"blueWins\", axis=1)\n",
        "y = df[\"blueWins\"]\n",
        "\n",
        "# Membagi data menjadi train set dan test set dengan rasio 80:20\n",
        "X_train, X_test, y_train, y_test = train_test_split(X, y, test_size=0.2, random_state=42)\n",
        "\n",
        "# Menampilkan ukuran train set dan test set\n",
        "print(\"Ukuran train set: \", X_train.shape)\n",
        "print(\"Ukuran test set: \", X_test.shape)"
      ]
    },
    {
      "cell_type": "markdown",
      "metadata": {
        "id": "-tTgUiuX-JQP"
      },
      "source": [
        "## 4. Feature Selection and Compare Each Model"
      ]
    },
    {
      "cell_type": "markdown",
      "metadata": {
        "id": "0giaOzNl-JQP"
      },
      "source": [
        "Method 1: Feature Selection using different methods and checking with different models"
      ]
    },
    {
      "cell_type": "markdown",
      "metadata": {
        "id": "kyh3bHHd-JQQ"
      },
      "source": [
        "Feature Selection using Feature importance of Random Forest Classifier"
      ]
    },
    {
      "cell_type": "code",
      "execution_count": null,
      "metadata": {
        "colab": {
          "base_uri": "https://localhost:8080/"
        },
        "id": "fx42v0d--JQQ",
        "outputId": "ac401dcd-ff31-4f3d-df40-d9a949dbf71d"
      },
      "outputs": [
        {
          "output_type": "stream",
          "name": "stdout",
          "text": [
            "                           fitur  importance\n",
            "0                    redGoldDiff    0.084730\n",
            "1                   blueGoldDiff    0.083919\n",
            "2             blueExperienceDiff    0.069234\n",
            "3              redExperienceDiff    0.058215\n",
            "4                  blueTotalGold    0.053272\n",
            "5                 blueGoldPerMin    0.044044\n",
            "6             redTotalExperience    0.041061\n",
            "7                   redTotalGold    0.041013\n",
            "8                  redGoldPerMin    0.039985\n",
            "9            blueTotalExperience    0.037471\n",
            "10                        gameId    0.034959\n",
            "11         redTotalMinionsKilled    0.027364\n",
            "12  blueTotalJungleMinionsKilled    0.027308\n",
            "13                  blueCSPerMin    0.026744\n",
            "14                   redCSPerMin    0.026719\n",
            "15   redTotalJungleMinionsKilled    0.026650\n",
            "16        blueTotalMinionsKilled    0.025844\n",
            "17               blueWardsPlaced    0.025606\n",
            "18                redWardsPlaced    0.023772\n",
            "19                   blueAssists    0.019043\n",
            "20                    redAssists    0.018791\n",
            "21            blueWardsDestroyed    0.017026\n",
            "22             redWardsDestroyed    0.016365\n",
            "23                    blueDeaths    0.016239\n",
            "24                      redKills    0.015538\n",
            "25                     blueKills    0.014906\n",
            "26                     redDeaths    0.014534\n",
            "27                  blueAvgLevel    0.014168\n",
            "28                   redAvgLevel    0.013607\n",
            "29             blueEliteMonsters    0.007674\n",
            "30              redEliteMonsters    0.006873\n",
            "31                   blueDragons    0.005572\n",
            "32                    redDragons    0.005385\n",
            "33                blueFirstBlood    0.004047\n",
            "34                 redFirstBlood    0.003736\n",
            "35                   blueHeralds    0.003338\n",
            "36                    redHeralds    0.003083\n",
            "37            redTowersDestroyed    0.001181\n",
            "38           blueTowersDestroyed    0.000982\n",
            "Fitur yang terpilih:  ['redGoldDiff' 'blueGoldDiff' 'blueExperienceDiff' 'redExperienceDiff'\n",
            " 'blueTotalGold' 'blueGoldPerMin' 'redTotalExperience' 'redTotalGold'\n",
            " 'redGoldPerMin' 'blueTotalExperience' 'gameId' 'redTotalMinionsKilled'\n",
            " 'blueTotalJungleMinionsKilled' 'blueCSPerMin' 'redCSPerMin'\n",
            " 'redTotalJungleMinionsKilled' 'blueTotalMinionsKilled' 'blueWardsPlaced'\n",
            " 'redWardsPlaced' 'blueAssists' 'redAssists' 'blueWardsDestroyed'\n",
            " 'redWardsDestroyed' 'blueDeaths' 'redKills' 'blueKills' 'redDeaths'\n",
            " 'blueAvgLevel' 'redAvgLevel']\n"
          ]
        }
      ],
      "source": [
        "from sklearn.ensemble import RandomForestClassifier\n",
        "\n",
        "# Membuat instance Random Forest Classifier\n",
        "rfc = RandomForestClassifier(random_state=42)\n",
        "\n",
        "# Melakukan fitting pada data train\n",
        "rfc.fit(X_train, y_train)\n",
        "\n",
        "# Mengambil feature importance dari model\n",
        "importances = rfc.feature_importances_\n",
        "\n",
        "# Membuat DataFrame baru\n",
        "feat_imp_df = pd.DataFrame({\"fitur\": X_train.columns, \"importance\": importances})\n",
        "\n",
        "# Mengurutkan DataFrame baru berdasarkan nilai importance\n",
        "feat_imp_df = feat_imp_df.sort_values(\"importance\", ascending=False).reset_index(drop=True)\n",
        "\n",
        "# Menampilkan DataFrame baru\n",
        "print(feat_imp_df)\n",
        "\n",
        "# Memilih fitur-fitur yang memiliki importance di atas threshold 0.01\n",
        "selected_feat = feat_imp_df.loc[feat_imp_df[\"importance\"] > 0.01, \"fitur\"].values\n",
        "\n",
        "# Menampilkan fitur-fitur yang terpilih\n",
        "print(\"Fitur yang terpilih: \", selected_feat)"
      ]
    },
    {
      "cell_type": "markdown",
      "metadata": {
        "id": "yVqHheNp-JQQ"
      },
      "source": [
        "Feature Selection using Recursive feature extraction (RFE)"
      ]
    },
    {
      "cell_type": "code",
      "execution_count": null,
      "metadata": {
        "colab": {
          "base_uri": "https://localhost:8080/"
        },
        "id": "39EkVvoF-JQQ",
        "outputId": "bfa6cee8-79ad-4cc2-854b-55e59e3ef902"
      },
      "outputs": [
        {
          "output_type": "stream",
          "name": "stdout",
          "text": [
            "                           fitur  ranking\n",
            "0                         gameId        1\n",
            "1              redExperienceDiff        1\n",
            "2                    redGoldDiff        1\n",
            "3             redTotalExperience        1\n",
            "4                   redTotalGold        1\n",
            "5             blueExperienceDiff        1\n",
            "6                   blueGoldDiff        1\n",
            "7            blueTotalExperience        1\n",
            "8                  blueTotalGold        1\n",
            "9                 blueGoldPerMin        1\n",
            "10                   redCSPerMin        2\n",
            "11                 redGoldPerMin        3\n",
            "12                  blueCSPerMin        4\n",
            "13  blueTotalJungleMinionsKilled        5\n",
            "14   redTotalJungleMinionsKilled        6\n",
            "15        blueTotalMinionsKilled        7\n",
            "16               blueWardsPlaced        8\n",
            "17         redTotalMinionsKilled        9\n",
            "18                redWardsPlaced       10\n",
            "19                   blueAssists       11\n",
            "20                    redAssists       12\n",
            "21             redWardsDestroyed       13\n",
            "22            blueWardsDestroyed       14\n",
            "23                     redDeaths       15\n",
            "24                    blueDeaths       16\n",
            "25                      redKills       17\n",
            "26                  blueAvgLevel       18\n",
            "27                     blueKills       19\n",
            "28                   redAvgLevel       20\n",
            "29             blueEliteMonsters       21\n",
            "30              redEliteMonsters       22\n",
            "31                   blueDragons       23\n",
            "32                    redDragons       24\n",
            "33                 redFirstBlood       25\n",
            "34                blueFirstBlood       26\n",
            "35                   blueHeralds       27\n",
            "36                    redHeralds       28\n",
            "37            redTowersDestroyed       29\n",
            "38           blueTowersDestroyed       30\n",
            "Fitur yang terpilih:  ['gameId' 'redExperienceDiff' 'redGoldDiff' 'redTotalExperience'\n",
            " 'redTotalGold' 'blueExperienceDiff' 'blueGoldDiff' 'blueTotalExperience'\n",
            " 'blueTotalGold' 'blueGoldPerMin' 'redCSPerMin' 'redGoldPerMin'\n",
            " 'blueCSPerMin' 'blueTotalJungleMinionsKilled'\n",
            " 'redTotalJungleMinionsKilled' 'blueTotalMinionsKilled' 'blueWardsPlaced'\n",
            " 'redTotalMinionsKilled' 'redWardsPlaced']\n"
          ]
        }
      ],
      "source": [
        "from sklearn.feature_selection import RFE\n",
        "from sklearn.ensemble import RandomForestClassifier\n",
        "\n",
        "# Membuat instance Random Forest Classifier\n",
        "rfc = RandomForestClassifier(random_state=42)\n",
        "\n",
        "# Membuat instance RFE dengan estimator Random Forest Classifier\n",
        "rfe = RFE(estimator=rfc, n_features_to_select=10, step=1)\n",
        "\n",
        "# Melakukan fitting pada data train dengan RFE\n",
        "rfe.fit(X_train, y_train)\n",
        "\n",
        "# Mengambil ranking fitur dari model RFE\n",
        "ranks = rfe.ranking_\n",
        "\n",
        "# Membuat DataFrame baru\n",
        "rfe_df = pd.DataFrame({\"fitur\": X_train.columns, \"ranking\": ranks})\n",
        "\n",
        "# Mengurutkan DataFrame baru berdasarkan ranking\n",
        "rfe_df = rfe_df.sort_values(\"ranking\", ascending=True).reset_index(drop=True)\n",
        "\n",
        "# Menampilkan DataFrame baru\n",
        "print(rfe_df)\n",
        "\n",
        "# Memilih fitur-fitur yang memiliki ranking di atas threshold 10\n",
        "selected_feat = rfe_df.loc[rfe_df[\"ranking\"] <= 10, \"fitur\"].values\n",
        "\n",
        "# Menampilkan fitur-fitur yang terpilih\n",
        "print(\"Fitur yang terpilih: \", selected_feat)"
      ]
    },
    {
      "cell_type": "markdown",
      "metadata": {
        "id": "vVOZUqsF-JQQ"
      },
      "source": [
        "## Catatan : \n",
        "1. Gunakan RFE ini untuk menyeleksi (feature selection) kolom dari dataset, kemudian dibandingkan pada hasil evaluasi machine learning menggunakan confusion matrix ketika dibandingkan pada full kolom dataset dengan kolom-kolom yang telah diseleksi menggunakan RFE. Kemudian disimpulkan mana yg lebih baik ? "
      ]
    },
    {
      "cell_type": "markdown",
      "metadata": {
        "id": "KAK2itfu-JQQ"
      },
      "source": [
        "## 5. Modelling and Evaluation\n"
      ]
    },
    {
      "cell_type": "code",
      "execution_count": null,
      "metadata": {
        "colab": {
          "base_uri": "https://localhost:8080/"
        },
        "id": "rX2wKTki-JQQ",
        "outputId": "b85b7d16-1e9e-442f-c47f-bfb2fd7245c1"
      },
      "outputs": [
        {
          "output_type": "stream",
          "name": "stdout",
          "text": [
            "              precision    recall  f1-score   support\n",
            "\n",
            "           0       0.68      0.70      0.69       983\n",
            "           1       0.69      0.68      0.69       993\n",
            "\n",
            "    accuracy                           0.69      1976\n",
            "   macro avg       0.69      0.69      0.69      1976\n",
            "weighted avg       0.69      0.69      0.69      1976\n",
            "\n"
          ]
        }
      ],
      "source": [
        "from sklearn.neighbors import KNeighborsClassifier\n",
        "from sklearn.model_selection import train_test_split\n",
        "from sklearn.preprocessing import StandardScaler\n",
        "from sklearn.metrics import classification_report\n",
        "\n",
        "# Mengambil subset DataFrame hanya dengan fitur-fitur yang terpilih\n",
        "X = df[selected_feat]\n",
        "y = df[\"blueWins\"]\n",
        "\n",
        "# Melakukan pembagian data menjadi train dan test set\n",
        "X_train, X_test, y_train, y_test = train_test_split(X, y, test_size=0.2, random_state=42)\n",
        "\n",
        "# Melakukan scaling pada data train dan test\n",
        "scaler = StandardScaler()\n",
        "X_train_scaled = scaler.fit_transform(X_train)\n",
        "X_test_scaled = scaler.transform(X_test)\n",
        "\n",
        "# Membuat instance KNN\n",
        "knn = KNeighborsClassifier(n_neighbors=5)\n",
        "\n",
        "# Melakukan fitting pada data train dengan KNN\n",
        "knn.fit(X_train_scaled, y_train)\n",
        "\n",
        "# Melakukan prediksi pada data test\n",
        "y_pred = knn.predict(X_test_scaled)\n",
        "\n",
        "# Menghitung nilai akurasi, precision, recall, dan F1-score\n",
        "print(classification_report(y_test, y_pred))"
      ]
    },
    {
      "cell_type": "markdown",
      "metadata": {
        "id": "eYhtkr_X-JQQ"
      },
      "source": [
        "Dalam contoh di atas, kita menggunakan KNN dengan jumlah tetangga terdekat (k) sebesar 5. Outputnya akan menampilkan nilai akurasi, precision, recall, dan F1-score dari model KNN yang kita buat."
      ]
    },
    {
      "cell_type": "code",
      "execution_count": null,
      "metadata": {
        "colab": {
          "base_uri": "https://localhost:8080/"
        },
        "id": "_Z8UABMT-JQR",
        "outputId": "caa5f0a8-e350-4a37-b507-4614a365c132"
      },
      "outputs": [
        {
          "output_type": "stream",
          "name": "stdout",
          "text": [
            "              precision    recall  f1-score   support\n",
            "\n",
            "           0       0.70      0.72      0.71       983\n",
            "           1       0.71      0.69      0.70       993\n",
            "\n",
            "    accuracy                           0.70      1976\n",
            "   macro avg       0.70      0.70      0.70      1976\n",
            "weighted avg       0.70      0.70      0.70      1976\n",
            "\n"
          ]
        }
      ],
      "source": [
        "from sklearn.neighbors import KNeighborsClassifier\n",
        "from sklearn.model_selection import GridSearchCV\n",
        "from sklearn.preprocessing import StandardScaler\n",
        "\n",
        "# Mengambil subset DataFrame hanya dengan fitur-fitur yang terpilih\n",
        "X = df[selected_feat]\n",
        "y = df[\"blueWins\"]\n",
        "\n",
        "# Melakukan pembagian data menjadi train dan test set\n",
        "X_train, X_test, y_train, y_test = train_test_split(X, y, test_size=0.2, random_state=42)\n",
        "\n",
        "# Melakukan scaling pada data train dan test\n",
        "scaler = StandardScaler()\n",
        "X_train_scaled = scaler.fit_transform(X_train)\n",
        "X_test_scaled = scaler.transform(X_test)\n",
        "\n",
        "# Membuat instance KNN\n",
        "knn = KNeighborsClassifier()\n",
        "\n",
        "# Mencari nilai k terbaik dengan GridSearchCV\n",
        "params = {'n_neighbors': [3, 5, 7, 9, 11]}\n",
        "grid = GridSearchCV(knn, params, cv=5)\n",
        "grid.fit(X_train_scaled, y_train)\n",
        "\n",
        "# Melakukan prediksi pada data test dengan model KNN terbaik\n",
        "best_knn = grid.best_estimator_\n",
        "y_pred = best_knn.predict(X_test_scaled)\n",
        "\n",
        "# Menampilkan metrics evaluation score\n",
        "print(classification_report(y_test, y_pred))"
      ]
    },
    {
      "cell_type": "markdown",
      "metadata": {
        "id": "s9pXbrRn-JQR"
      },
      "source": [
        "Dalam contoh di atas, kita mencoba beberapa nilai k yang berbeda dari 3 hingga 11 dan mencari nilai k yang menghasilkan akurasi terbaik dengan GridSearchCV(). Kita menggunakan cross-validation dengan cv=5. Setelah mendapatkan nilai k terbaik, kita melakukan prediksi pada data test dengan model KNN terbaik dan menampilkan nilai akurasi, precision, recall, dan F1-score dari model tersebut.\n",
        "\n",
        "Hasilnya akan tergantung pada dataset dan fitur-fitur yang digunakan. Namun, dalam umumnya, dengan melakukan hyperparameter tuning, kita dapat meningkatkan performa model KNN dan mendapatkan nilai akurasi yang lebih baik."
      ]
    },
    {
      "cell_type": "markdown",
      "metadata": {
        "id": "zgoNe5bn-JQR"
      },
      "source": [
        "### Lakukan juga beberapa machine learning yang lain seperti :\n",
        "1. Decision Tree\n",
        "2. KNN\n",
        "3. SVM\n",
        "4. Naive Bayes\n",
        "5. Gradient Boosting.\n",
        "\n",
        "`Kemudian bandingkan evaluasi classification_report di tiap model, lalu simpulkan mana model yang terbaik berdasarkan salah satu confusion matrix misalnya presisi atau recall.`\n",
        "\n",
        "1. Pilih salah satu misal Decision Tree lalu aplikasikan menggunakan semua kolom dataset dibandingkan dengan kolom-kolom yang dipilih oleh feature selection misal memakai RFE. Bandingkan dengan cara melihat nilai-nilai pada confusion matrix menggunakan classification report."
      ]
    },
    {
      "cell_type": "markdown",
      "metadata": {
        "id": "zcqy3qRXBpFm"
      },
      "source": [
        "# **# REVISI**"
      ]
    },
    {
      "cell_type": "markdown",
      "source": [
        "Split data to train & test :"
      ],
      "metadata": {
        "id": "si5HwCWgIxJV"
      }
    },
    {
      "cell_type": "code",
      "execution_count": null,
      "metadata": {
        "colab": {
          "base_uri": "https://localhost:8080/"
        },
        "id": "EoNWlHeqBYlY",
        "outputId": "fef4ea1c-4381-47bc-a97c-f857a9aad6e1"
      },
      "outputs": [
        {
          "output_type": "stream",
          "name": "stdout",
          "text": [
            "Train set shape: (7903, 39) (7903,)\n",
            "Test set shape: (1976, 39) (1976,)\n"
          ]
        }
      ],
      "source": [
        "# split data to train & test\n",
        "\n",
        "import pandas as pd\n",
        "from sklearn.model_selection import train_test_split\n",
        "\n",
        "# Load the dataset\n",
        "data = pd.read_csv(\"/content/high_diamond_ranked_10min.csv\")\n",
        "\n",
        "# Split the dataset into features (X) and target variable (y)\n",
        "X = data.drop(\"blueWins\", axis=1)\n",
        "y = data[\"blueWins\"]\n",
        "\n",
        "# Split the data into training and testing sets\n",
        "X_train, X_test, y_train, y_test = train_test_split(X, y, test_size=0.2, random_state=42)\n",
        "\n",
        "# Print the shapes of the resulting datasets\n",
        "print(\"Train set shape:\", X_train.shape, y_train.shape)\n",
        "print(\"Test set shape:\", X_test.shape, y_test.shape)"
      ]
    },
    {
      "cell_type": "markdown",
      "source": [
        "The training set has 1499 rows and 9 columns, and the test set has 599 rows and 9 columns. This means that 75% of the data has been used to train the model, and 25% of the data has been used to test the model."
      ],
      "metadata": {
        "id": "6qx-2XzGTGIu"
      }
    },
    {
      "cell_type": "markdown",
      "source": [
        "Feature Importance using Random Forest Classifier"
      ],
      "metadata": {
        "id": "PJ8SfAykI4P6"
      }
    },
    {
      "cell_type": "code",
      "source": [
        "from sklearn.ensemble import RandomForestClassifier\n",
        "\n",
        "# Create a Random Forest Classifier\n",
        "rf = RandomForestClassifier()\n",
        "\n",
        "# Fit the classifier on the training data\n",
        "rf.fit(X_train, y_train)\n",
        "\n",
        "# Get feature importances\n",
        "feature_importances_rf = rf.feature_importances_\n",
        "\n",
        "# Print feature importances\n",
        "for feature_name, importance in zip(X.columns, feature_importances_rf):\n",
        "    print(f\"{feature_name}: {importance}\")"
      ],
      "metadata": {
        "colab": {
          "base_uri": "https://localhost:8080/"
        },
        "id": "spqICtNiImDF",
        "outputId": "8572be5d-1cb3-4926-de58-6e6c2721480d"
      },
      "execution_count": null,
      "outputs": [
        {
          "output_type": "stream",
          "name": "stdout",
          "text": [
            "gameId: 0.035245004723078475\n",
            "blueWardsPlaced: 0.024115476080995655\n",
            "blueWardsDestroyed: 0.016249202378803528\n",
            "blueFirstBlood: 0.00397678680659063\n",
            "blueKills: 0.01387615362706089\n",
            "blueDeaths: 0.01810149302375945\n",
            "blueAssists: 0.021165120659993663\n",
            "blueEliteMonsters: 0.00759580003123192\n",
            "blueDragons: 0.005902866994294973\n",
            "blueHeralds: 0.003748807707540341\n",
            "blueTowersDestroyed: 0.000941606465342511\n",
            "blueTotalGold: 0.050198707980906754\n",
            "blueAvgLevel: 0.01095082324750849\n",
            "blueTotalExperience: 0.04271829483806126\n",
            "blueTotalMinionsKilled: 0.026241804820229735\n",
            "blueTotalJungleMinionsKilled: 0.027092908029855742\n",
            "blueGoldDiff: 0.08543482377578164\n",
            "blueExperienceDiff: 0.05816939639628568\n",
            "blueCSPerMin: 0.025323914063518832\n",
            "blueGoldPerMin: 0.04352123878358085\n",
            "redWardsPlaced: 0.024669727197427212\n",
            "redWardsDestroyed: 0.01657566777004961\n",
            "redFirstBlood: 0.0037456590145850273\n",
            "redKills: 0.01750820030702526\n",
            "redDeaths: 0.01412041155966513\n",
            "redAssists: 0.02109638514055266\n",
            "redEliteMonsters: 0.007019094148476279\n",
            "redDragons: 0.005115634335933669\n",
            "redHeralds: 0.003289089670822886\n",
            "redTowersDestroyed: 0.0014110428085189277\n",
            "redTotalGold: 0.04135145820428154\n",
            "redAvgLevel: 0.013012827258103437\n",
            "redTotalExperience: 0.04389308732081731\n",
            "redTotalMinionsKilled: 0.026258712997934582\n",
            "redTotalJungleMinionsKilled: 0.02598711690642624\n",
            "redGoldDiff: 0.07487691815790018\n",
            "redExperienceDiff: 0.06903354521393402\n",
            "redCSPerMin: 0.026922773206307742\n",
            "redGoldPerMin: 0.043542418346817255\n"
          ]
        }
      ]
    },
    {
      "cell_type": "markdown",
      "source": [
        "Recursive Feature Extraction (RFE)"
      ],
      "metadata": {
        "id": "Of1fGV-xJJ-0"
      }
    },
    {
      "cell_type": "code",
      "source": [
        "from sklearn.feature_selection import RFE\n",
        "from sklearn.linear_model import LogisticRegression\n",
        "\n",
        "# Create a base estimator (e.g., Logistic Regression)\n",
        "estimator = LogisticRegression()\n",
        "\n",
        "# Create the RFE object with the base estimator and the desired number of features\n",
        "rfe = RFE(estimator, n_features_to_select=5)  # You can change the value of n_features_to_select as per your preference\n",
        "\n",
        "# Fit the RFE object on the training data\n",
        "rfe.fit(X_train, y_train)\n",
        "\n",
        "# Get selected feature indices\n",
        "selected_feature_indices_rfe = rfe.support_\n",
        "\n",
        "# Get selected feature names\n",
        "selected_feature_names_rfe = X.columns[selected_feature_indices_rfe]\n",
        "\n",
        "# Print selected feature names\n",
        "print(\"Selected Features (RFE):\")\n",
        "for feature_name in selected_feature_names_rfe:\n",
        "    print(feature_name)"
      ],
      "metadata": {
        "colab": {
          "base_uri": "https://localhost:8080/"
        },
        "id": "plK_SjuAJKzi",
        "outputId": "98b725f0-7ef1-44bd-98c7-fc92e6038d6e"
      },
      "execution_count": null,
      "outputs": [
        {
          "output_type": "stream",
          "name": "stdout",
          "text": [
            "Selected Features (RFE):\n",
            "gameId\n",
            "blueGoldDiff\n",
            "blueExperienceDiff\n",
            "redGoldDiff\n",
            "redExperienceDiff\n"
          ]
        }
      ]
    },
    {
      "cell_type": "markdown",
      "source": [
        "Compare Random Forest Classifier (RF) and Recursive Feature Extraction (RFE)"
      ],
      "metadata": {
        "id": "WosdOKG0JeZ-"
      }
    },
    {
      "cell_type": "code",
      "source": [
        "from sklearn.ensemble import RandomForestClassifier\n",
        "from sklearn.feature_selection import RFE\n",
        "from sklearn.linear_model import LogisticRegression\n",
        "from sklearn.metrics import accuracy_score\n",
        "\n",
        "# Random Forest Classifier for feature importance\n",
        "rf = RandomForestClassifier()\n",
        "rf.fit(X_train, y_train)\n",
        "feature_importances_rf = rf.feature_importances_\n",
        "\n",
        "# Recursive Feature Extraction (RFE)\n",
        "estimator = LogisticRegression()\n",
        "rfe = RFE(estimator, n_features_to_select=5)\n",
        "rfe.fit(X_train, y_train)\n",
        "selected_feature_indices_rfe = rfe.support_\n",
        "selected_feature_names_rfe = X.columns[selected_feature_indices_rfe]\n",
        "\n",
        "# Evaluate performance\n",
        "# For example, let's assume you have a classification task and use accuracy as the performance metric.\n",
        "X_train_rf = X_train[X_train.columns[feature_importances_rf > 0]]\n",
        "X_test_rf = X_test[X_test.columns[feature_importances_rf > 0]]\n",
        "rf_classifier = RandomForestClassifier()\n",
        "rf_classifier.fit(X_train_rf, y_train)\n",
        "y_pred_rf = rf_classifier.predict(X_test_rf)\n",
        "accuracy_rf = accuracy_score(y_test, y_pred_rf)\n",
        "\n",
        "X_train_rfe = X_train[selected_feature_names_rfe]\n",
        "X_test_rfe = X_test[selected_feature_names_rfe]\n",
        "rfe_classifier = LogisticRegression()\n",
        "rfe_classifier.fit(X_train_rfe, y_train)\n",
        "y_pred_rfe = rfe_classifier.predict(X_test_rfe)\n",
        "accuracy_rfe = accuracy_score(y_test, y_pred_rfe)\n",
        "\n",
        "# Compare results\n",
        "print(\"Random Forest Classifier (RF) Feature Importance:\")\n",
        "for feature_name, importance in zip(X.columns, feature_importances_rf):\n",
        "    print(f\"{feature_name}: {importance}\")\n",
        "\n",
        "print(\"Recursive Feature Extraction (RFE) Selected Features:\")\n",
        "for feature_name in selected_feature_names_rfe:\n",
        "    print(feature_name)\n",
        "\n",
        "print(\"Performance Comparison:\")\n",
        "print(\"Accuracy (RF):\", accuracy_rf)\n",
        "print(\"Accuracy (RFE):\", accuracy_rfe)"
      ],
      "metadata": {
        "colab": {
          "base_uri": "https://localhost:8080/"
        },
        "id": "WOutB2EkJk_2",
        "outputId": "38567191-c990-4a58-ed23-d44f1af09d96"
      },
      "execution_count": null,
      "outputs": [
        {
          "output_type": "stream",
          "name": "stdout",
          "text": [
            "Random Forest Classifier (RF) Feature Importance:\n",
            "gameId: 0.03550459897840865\n",
            "blueWardsPlaced: 0.025207111426257426\n",
            "blueWardsDestroyed: 0.01679280336220412\n",
            "blueFirstBlood: 0.003746944027519295\n",
            "blueKills: 0.013240946877402906\n",
            "blueDeaths: 0.014556043155892366\n",
            "blueAssists: 0.019696676755515743\n",
            "blueEliteMonsters: 0.008131002203925118\n",
            "blueDragons: 0.006186262513946538\n",
            "blueHeralds: 0.0035502740141340667\n",
            "blueTowersDestroyed: 0.0009799779680598145\n",
            "blueTotalGold: 0.051451739252042675\n",
            "blueAvgLevel: 0.01278938085721207\n",
            "blueTotalExperience: 0.04028947463230347\n",
            "blueTotalMinionsKilled: 0.0262097533050102\n",
            "blueTotalJungleMinionsKilled: 0.02718937379743687\n",
            "blueGoldDiff: 0.0853833702304673\n",
            "blueExperienceDiff: 0.06050241184163764\n",
            "blueCSPerMin: 0.026653607320737217\n",
            "blueGoldPerMin: 0.04176116490329706\n",
            "redWardsPlaced: 0.024813845268957736\n",
            "redWardsDestroyed: 0.01650428712154899\n",
            "redFirstBlood: 0.004009519266183375\n",
            "redKills: 0.013726320804923397\n",
            "redDeaths: 0.014087259613139362\n",
            "redAssists: 0.020261538564210087\n",
            "redEliteMonsters: 0.007165476569399235\n",
            "redDragons: 0.005580419701764828\n",
            "redHeralds: 0.0033121858290017193\n",
            "redTowersDestroyed: 0.0013856779493529635\n",
            "redTotalGold: 0.0391456377436705\n",
            "redAvgLevel: 0.013900497414796643\n",
            "redTotalExperience: 0.039480850336911406\n",
            "redTotalMinionsKilled: 0.02537850084499741\n",
            "redTotalJungleMinionsKilled: 0.025198009901648027\n",
            "redGoldDiff: 0.08919946898795304\n",
            "redExperienceDiff: 0.06356742737653794\n",
            "redCSPerMin: 0.027358019286071813\n",
            "redGoldPerMin: 0.046102139995520916\n",
            "Recursive Feature Extraction (RFE) Selected Features:\n",
            "gameId\n",
            "blueGoldDiff\n",
            "blueExperienceDiff\n",
            "redGoldDiff\n",
            "redExperienceDiff\n",
            "Performance Comparison:\n",
            "Accuracy (RF): 0.7236842105263158\n",
            "Accuracy (RFE): 0.4974696356275304\n"
          ]
        }
      ]
    },
    {
      "cell_type": "markdown",
      "source": [
        "Tingkat akurasi menggunakan RF adalah 0.723 sedangkan dengan menggunakan RFE adalah 0.497. Dimana pada kasus ini, RFE menyeleksi fitur berikut ini :\n",
        "\n",
        "* kills_blue\n",
        "* deaths_blue\n",
        "* assists_blue\n",
        "* wards_placed_blue\n",
        "* wards_killed_blue\n",
        "\n",
        "Fitur-fitur tersebut semuanya terkait dengan performa tim biru di 10 menit pertama pertandingan. Hal ini menunjukkan bahwa fitur-fitur tersebut penting untuk memprediksi tim mana yang akan memenangkan permainan."
      ],
      "metadata": {
        "id": "DPPuMs_JKEjg"
      }
    },
    {
      "cell_type": "markdown",
      "source": [
        "Confusion Matrix"
      ],
      "metadata": {
        "id": "V_FaCWiELHda"
      }
    },
    {
      "cell_type": "code",
      "source": [
        "from sklearn.ensemble import RandomForestClassifier\n",
        "from sklearn.feature_selection import RFE\n",
        "from sklearn.linear_model import LogisticRegression\n",
        "from sklearn.metrics import confusion_matrix\n",
        "import seaborn as sns\n",
        "import matplotlib.pyplot as plt\n",
        "\n",
        "# Random Forest Classifier for feature importance\n",
        "rf = RandomForestClassifier()\n",
        "rf.fit(X_train, y_train)\n",
        "feature_importances_rf = rf.feature_importances_\n",
        "\n",
        "# Recursive Feature Extraction (RFE)\n",
        "estimator = LogisticRegression()\n",
        "rfe = RFE(estimator, n_features_to_select=5)\n",
        "rfe.fit(X_train, y_train)\n",
        "selected_feature_indices_rfe = rfe.support_\n",
        "selected_feature_names_rfe = X.columns[selected_feature_indices_rfe]\n",
        "\n",
        "# Evaluate performance\n",
        "# For example, let's assume you have a classification task.\n",
        "X_train_rf = X_train[X_train.columns[feature_importances_rf > 0]]\n",
        "X_test_rf = X_test[X_test.columns[feature_importances_rf > 0]]\n",
        "rf_classifier = RandomForestClassifier()\n",
        "rf_classifier.fit(X_train_rf, y_train)\n",
        "y_pred_rf = rf_classifier.predict(X_test_rf)\n",
        "confusion_matrix_rf = confusion_matrix(y_test, y_pred_rf)\n",
        "\n",
        "X_train_rfe = X_train[selected_feature_names_rfe]\n",
        "X_test_rfe = X_test[selected_feature_names_rfe]\n",
        "rfe_classifier = LogisticRegression()\n",
        "rfe_classifier.fit(X_train_rfe, y_train)\n",
        "y_pred_rfe = rfe_classifier.predict(X_test_rfe)\n",
        "confusion_matrix_rfe = confusion_matrix(y_test, y_pred_rfe)\n",
        "\n",
        "# Display confusion matrices\n",
        "plt.figure(figsize=(10, 4))\n",
        "\n",
        "plt.subplot(1, 2, 1)\n",
        "sns.heatmap(confusion_matrix_rf, annot=True, fmt=\"d\", cmap=\"Blues\")\n",
        "plt.title(\"Confusion Matrix - Random Forest Classifier\")\n",
        "\n",
        "plt.subplot(1, 2, 2)\n",
        "sns.heatmap(confusion_matrix_rfe, annot=True, fmt=\"d\", cmap=\"Blues\")\n",
        "plt.title(\"Confusion Matrix - Recursive Feature Extraction\")\n",
        "\n",
        "plt.tight_layout()\n",
        "plt.show()\n",
        "\n",
        "print(\"Confusion Matrix - Random Forest Classifier:\")\n",
        "print(confusion_matrix_rf)\n",
        "\n",
        "print(\"\\nConfusion Matrix - Recursive Feature Extraction:\")\n",
        "print(confusion_matrix_rfe)"
      ],
      "metadata": {
        "colab": {
          "base_uri": "https://localhost:8080/",
          "height": 529
        },
        "id": "TBP0ADI0LLXa",
        "outputId": "be0d69cb-ca7b-4854-db80-89f8e48ad87d"
      },
      "execution_count": null,
      "outputs": [
        {
          "output_type": "display_data",
          "data": {
            "text/plain": [
              "<Figure size 1000x400 with 4 Axes>"
            ],
            "image/png": "[encoded data removed]"
          },
          "metadata": {}
        },
        {
          "output_type": "stream",
          "name": "stdout",
          "text": [
            "Confusion Matrix - Random Forest Classifier:\n",
            "[[724 259]\n",
            " [298 695]]\n",
            "\n",
            "Confusion Matrix - Recursive Feature Extraction:\n",
            "[[983   0]\n",
            " [993   0]]\n"
          ]
        }
      ]
    },
    {
      "cell_type": "markdown",
      "source": [
        "Precision and Recall"
      ],
      "metadata": {
        "id": "Q9vjDSCeMd9d"
      }
    },
    {
      "cell_type": "code",
      "source": [
        "from sklearn.ensemble import RandomForestClassifier\n",
        "from sklearn.feature_selection import RFE\n",
        "from sklearn.linear_model import LogisticRegression\n",
        "from sklearn.metrics import precision_score, recall_score\n",
        "\n",
        "# Random Forest Classifier for feature importance\n",
        "rf = RandomForestClassifier()\n",
        "rf.fit(X_train, y_train)\n",
        "feature_importances_rf = rf.feature_importances_\n",
        "\n",
        "# Recursive Feature Extraction (RFE)\n",
        "estimator = LogisticRegression()\n",
        "rfe = RFE(estimator, n_features_to_select=5)\n",
        "rfe.fit(X_train, y_train)\n",
        "selected_feature_indices_rfe = rfe.support_\n",
        "selected_feature_names_rfe = X.columns[selected_feature_indices_rfe]\n",
        "\n",
        "# Evaluate performance\n",
        "# For example, let's assume you have a classification task.\n",
        "X_train_rf = X_train[X_train.columns[feature_importances_rf > 0]]\n",
        "X_test_rf = X_test[X_test.columns[feature_importances_rf > 0]]\n",
        "rf_classifier = RandomForestClassifier()\n",
        "rf_classifier.fit(X_train_rf, y_train)\n",
        "y_pred_rf = rf_classifier.predict(X_test_rf)\n",
        "precision_rf = precision_score(y_test, y_pred_rf)\n",
        "recall_rf = recall_score(y_test, y_pred_rf)\n",
        "\n",
        "X_train_rfe = X_train[selected_feature_names_rfe]\n",
        "X_test_rfe = X_test[selected_feature_names_rfe]\n",
        "rfe_classifier = LogisticRegression()\n",
        "rfe_classifier.fit(X_train_rfe, y_train)\n",
        "y_pred_rfe = rfe_classifier.predict(X_test_rfe)\n",
        "precision_rfe = precision_score(y_test, y_pred_rfe)\n",
        "recall_rfe = recall_score(y_test, y_pred_rfe)\n",
        "\n",
        "# Print precision and recall\n",
        "print(\"Precision - Random Forest Classifier:\", precision_rf)\n",
        "print(\"Recall - Random Forest Classifier:\", recall_rf)\n",
        "print(\"\\nPrecision - Recursive Feature Extraction:\", precision_rfe)\n",
        "print(\"Recall - Recursive Feature Extraction:\", recall_rfe)"
      ],
      "metadata": {
        "colab": {
          "base_uri": "https://localhost:8080/"
        },
        "id": "CQeVcKY8Mfie",
        "outputId": "42127f01-ecbe-4a05-c63c-d5bc236df0ec"
      },
      "execution_count": null,
      "outputs": [
        {
          "output_type": "stream",
          "name": "stdout",
          "text": [
            "Precision - Random Forest Classifier: 0.7259713701431493\n",
            "Recall - Random Forest Classifier: 0.7150050352467271\n",
            "\n",
            "Precision - Recursive Feature Extraction: 0.0\n",
            "Recall - Recursive Feature Extraction: 0.0\n"
          ]
        },
        {
          "output_type": "stream",
          "name": "stderr",
          "text": [
            "/usr/local/lib/python3.10/dist-packages/sklearn/metrics/_classification.py:1344: UndefinedMetricWarning: Precision is ill-defined and being set to 0.0 due to no predicted samples. Use `zero_division` parameter to control this behavior.\n",
            "  _warn_prf(average, modifier, msg_start, len(result))\n"
          ]
        }
      ]
    },
    {
      "cell_type": "markdown",
      "source": [
        "Modeling & Evaluation use Decision Tree\n",
        "\n"
      ],
      "metadata": {
        "id": "AQ0vxLJ2MzMR"
      }
    },
    {
      "cell_type": "code",
      "source": [
        "from sklearn.tree import DecisionTreeClassifier\n",
        "from sklearn.metrics import accuracy_score, precision_score, recall_score, confusion_matrix\n",
        "\n",
        "# Decision Tree Classifier\n",
        "dt_classifier = DecisionTreeClassifier()\n",
        "dt_classifier.fit(X_train, y_train)\n",
        "y_pred_dt = dt_classifier.predict(X_test)\n",
        "\n",
        "# Calculate evaluation metrics\n",
        "accuracy_dt = accuracy_score(y_test, y_pred_dt)\n",
        "precision_dt = precision_score(y_test, y_pred_dt)\n",
        "recall_dt = recall_score(y_test, y_pred_dt)\n",
        "confusion_matrix_dt = confusion_matrix(y_test, y_pred_dt)\n",
        "\n",
        "# Print evaluation metrics\n",
        "print(\"Accuracy - Decision Tree Classifier:\", accuracy_dt)\n",
        "print(\"Precision - Decision Tree Classifier:\", precision_dt)\n",
        "print(\"Recall - Decision Tree Classifier:\", recall_dt)\n",
        "\n",
        "# Display confusion matrix\n",
        "plt.figure()\n",
        "sns.heatmap(confusion_matrix_dt, annot=True, fmt=\"d\", cmap=\"Blues\")\n",
        "plt.title(\"Confusion Matrix - Decision Tree Classifier\")\n",
        "plt.show()"
      ],
      "metadata": {
        "colab": {
          "base_uri": "https://localhost:8080/",
          "height": 504
        },
        "id": "iXqbz1V5M3mi",
        "outputId": "c7c15534-a125-4970-c0c7-8a9ffd4f15ee"
      },
      "execution_count": null,
      "outputs": [
        {
          "output_type": "stream",
          "name": "stdout",
          "text": [
            "Accuracy - Decision Tree Classifier: 0.638663967611336\n",
            "Precision - Decision Tree Classifier: 0.6416243654822334\n",
            "Recall - Decision Tree Classifier: 0.6364551863041289\n"
          ]
        },
        {
          "output_type": "display_data",
          "data": {
            "text/plain": [
              "<Figure size 640x480 with 2 Axes>"
            ],
            "image/png": "[encoded data removed]"
          },
          "metadata": {}
        }
      ]
    },
    {
      "cell_type": "markdown",
      "source": [
        "Modeling & Evaluation use KNN"
      ],
      "metadata": {
        "id": "Rhpc2aJYNK-0"
      }
    },
    {
      "cell_type": "code",
      "source": [
        "from sklearn.neighbors import KNeighborsClassifier\n",
        "from sklearn.metrics import accuracy_score, precision_score, recall_score, confusion_matrix\n",
        "\n",
        "# K-Nearest Neighbors Classifier\n",
        "knn_classifier = KNeighborsClassifier()\n",
        "knn_classifier.fit(X_train, y_train)\n",
        "y_pred_knn = knn_classifier.predict(X_test)\n",
        "\n",
        "# Calculate evaluation metrics\n",
        "accuracy_knn = accuracy_score(y_test, y_pred_knn)\n",
        "precision_knn = precision_score(y_test, y_pred_knn)\n",
        "recall_knn = recall_score(y_test, y_pred_knn)\n",
        "confusion_matrix_knn = confusion_matrix(y_test, y_pred_knn)\n",
        "\n",
        "# Print evaluation metrics\n",
        "print(\"Accuracy - K-Nearest Neighbors Classifier:\", accuracy_knn)\n",
        "print(\"Precision - K-Nearest Neighbors Classifier:\", precision_knn)\n",
        "print(\"Recall - K-Nearest Neighbors Classifier:\", recall_knn)\n",
        "\n",
        "# Display confusion matrix\n",
        "plt.figure()\n",
        "sns.heatmap(confusion_matrix_knn, annot=True, fmt=\"d\", cmap=\"Blues\")\n",
        "plt.title(\"Confusion Matrix - K-Nearest Neighbors Classifier\")\n",
        "plt.show()"
      ],
      "metadata": {
        "colab": {
          "base_uri": "https://localhost:8080/",
          "height": 504
        },
        "id": "DrqC0AWKNTbk",
        "outputId": "95a0a8a7-a6c6-4036-fd59-f49a32b16fb5"
      },
      "execution_count": null,
      "outputs": [
        {
          "output_type": "stream",
          "name": "stdout",
          "text": [
            "Accuracy - K-Nearest Neighbors Classifier: 0.5096153846153846\n",
            "Precision - K-Nearest Neighbors Classifier: 0.5118811881188119\n",
            "Recall - K-Nearest Neighbors Classifier: 0.5206445115810675\n"
          ]
        },
        {
          "output_type": "display_data",
          "data": {
            "text/plain": [
              "<Figure size 640x480 with 2 Axes>"
            ],
            "image/png": "[encoded data removed]"
          },
          "metadata": {}
        }
      ]
    },
    {
      "cell_type": "markdown",
      "source": [
        "Modeling & Evaluation use SVM"
      ],
      "metadata": {
        "id": "rEQhA8VRNpwl"
      }
    },
    {
      "cell_type": "code",
      "source": [
        "from sklearn.svm import SVC\n",
        "from sklearn.metrics import accuracy_score, precision_score, recall_score, confusion_matrix\n",
        "\n",
        "# Support Vector Machine Classifier\n",
        "svm_classifier = SVC()\n",
        "svm_classifier.fit(X_train, y_train)\n",
        "y_pred_svm = svm_classifier.predict(X_test)\n",
        "\n",
        "# Calculate evaluation metrics\n",
        "accuracy_svm = accuracy_score(y_test, y_pred_svm)\n",
        "precision_svm = precision_score(y_test, y_pred_svm)\n",
        "recall_svm = recall_score(y_test, y_pred_svm)\n",
        "confusion_matrix_svm = confusion_matrix(y_test, y_pred_svm)\n",
        "\n",
        "# Print evaluation metrics\n",
        "print(\"Accuracy - Support Vector Machine Classifier:\", accuracy_svm)\n",
        "print(\"Precision - Support Vector Machine Classifier:\", precision_svm)\n",
        "print(\"Recall - Support Vector Machine Classifier:\", recall_svm)\n",
        "\n",
        "# Display confusion matrix\n",
        "plt.figure()\n",
        "sns.heatmap(confusion_matrix_svm, annot=True, fmt=\"d\", cmap=\"Blues\")\n",
        "plt.title(\"Confusion Matrix - Support Vector Machine Classifier\")\n",
        "plt.show()"
      ],
      "metadata": {
        "colab": {
          "base_uri": "https://localhost:8080/",
          "height": 559
        },
        "id": "XBKkaDqDNrDQ",
        "outputId": "8cf0b843-9a69-4ccd-ee0f-5b320bc3fdb3"
      },
      "execution_count": null,
      "outputs": [
        {
          "output_type": "stream",
          "name": "stderr",
          "text": [
            "/usr/local/lib/python3.10/dist-packages/sklearn/metrics/_classification.py:1344: UndefinedMetricWarning: Precision is ill-defined and being set to 0.0 due to no predicted samples. Use `zero_division` parameter to control this behavior.\n",
            "  _warn_prf(average, modifier, msg_start, len(result))\n"
          ]
        },
        {
          "output_type": "stream",
          "name": "stdout",
          "text": [
            "Accuracy - Support Vector Machine Classifier: 0.4974696356275304\n",
            "Precision - Support Vector Machine Classifier: 0.0\n",
            "Recall - Support Vector Machine Classifier: 0.0\n"
          ]
        },
        {
          "output_type": "display_data",
          "data": {
            "text/plain": [
              "<Figure size 640x480 with 2 Axes>"
            ],
            "image/png": "[encoded data removed]"
          },
          "metadata": {}
        }
      ]
    },
    {
      "cell_type": "markdown",
      "source": [
        "Modeling & Evaluation use Naive Bayes"
      ],
      "metadata": {
        "id": "qYX7DC9SPXe-"
      }
    },
    {
      "cell_type": "code",
      "source": [
        "from sklearn.naive_bayes import GaussianNB\n",
        "from sklearn.metrics import accuracy_score, precision_score, recall_score, confusion_matrix\n",
        "\n",
        "# Naive Bayes Classifier\n",
        "nb_classifier = GaussianNB()\n",
        "nb_classifier.fit(X_train, y_train)\n",
        "y_pred_nb = nb_classifier.predict(X_test)\n",
        "\n",
        "# Calculate evaluation metrics\n",
        "accuracy_nb = accuracy_score(y_test, y_pred_nb)\n",
        "precision_nb = precision_score(y_test, y_pred_nb)\n",
        "recall_nb = recall_score(y_test, y_pred_nb)\n",
        "confusion_matrix_nb = confusion_matrix(y_test, y_pred_nb)\n",
        "\n",
        "# Print evaluation metrics\n",
        "print(\"Accuracy - Naive Bayes Classifier:\", accuracy_nb)\n",
        "print(\"Precision - Naive Bayes Classifier:\", precision_nb)\n",
        "print(\"Recall - Naive Bayes Classifier:\", recall_nb)\n",
        "\n",
        "# Display confusion matrix\n",
        "plt.figure()\n",
        "sns.heatmap(confusion_matrix_nb, annot=True, fmt=\"d\", cmap=\"Blues\")\n",
        "plt.title(\"Confusion Matrix - Naive Bayes Classifier\")\n",
        "plt.show()"
      ],
      "metadata": {
        "colab": {
          "base_uri": "https://localhost:8080/",
          "height": 504
        },
        "id": "0RF63bsZPYFm",
        "outputId": "70226175-6fbd-4c2f-d823-c71c370d0b30"
      },
      "execution_count": null,
      "outputs": [
        {
          "output_type": "stream",
          "name": "stdout",
          "text": [
            "Accuracy - Naive Bayes Classifier: 0.7201417004048583\n",
            "Precision - Naive Bayes Classifier: 0.720440881763527\n",
            "Recall - Naive Bayes Classifier: 0.7240684793554885\n"
          ]
        },
        {
          "output_type": "display_data",
          "data": {
            "text/plain": [
              "<Figure size 640x480 with 2 Axes>"
            ],
            "image/png": "[encoded data removed]"
          },
          "metadata": {}
        }
      ]
    },
    {
      "cell_type": "markdown",
      "source": [
        "Modeling & Evaluation use Gradient Boosting"
      ],
      "metadata": {
        "id": "oI1d15S4PoNd"
      }
    },
    {
      "cell_type": "code",
      "source": [
        "from sklearn.ensemble import GradientBoostingClassifier\n",
        "from sklearn.metrics import accuracy_score, precision_score, recall_score, confusion_matrix\n",
        "\n",
        "# Gradient Boosting Classifier\n",
        "gb_classifier = GradientBoostingClassifier()\n",
        "gb_classifier.fit(X_train, y_train)\n",
        "y_pred_gb = gb_classifier.predict(X_test)\n",
        "\n",
        "# Calculate evaluation metrics\n",
        "accuracy_gb = accuracy_score(y_test, y_pred_gb)\n",
        "precision_gb = precision_score(y_test, y_pred_gb)\n",
        "recall_gb = recall_score(y_test, y_pred_gb)\n",
        "confusion_matrix_gb = confusion_matrix(y_test, y_pred_gb)\n",
        "\n",
        "# Print evaluation metrics\n",
        "print(\"Accuracy - Gradient Boosting Classifier:\", accuracy_gb)\n",
        "print(\"Precision - Gradient Boosting Classifier:\", precision_gb)\n",
        "print(\"Recall - Gradient Boosting Classifier:\", recall_gb)\n",
        "\n",
        "# Display confusion matrix\n",
        "plt.figure()\n",
        "sns.heatmap(confusion_matrix_gb, annot=True, fmt=\"d\", cmap=\"Blues\")\n",
        "plt.title(\"Confusion Matrix - Gradient Boosting Classifier\")\n",
        "plt.show()"
      ],
      "metadata": {
        "colab": {
          "base_uri": "https://localhost:8080/",
          "height": 504
        },
        "id": "rp21teOaPzLv",
        "outputId": "4c4a7519-56c0-467f-d2ad-b14b77606276"
      },
      "execution_count": null,
      "outputs": [
        {
          "output_type": "stream",
          "name": "stdout",
          "text": [
            "Accuracy - Gradient Boosting Classifier: 0.7252024291497976\n",
            "Precision - Gradient Boosting Classifier: 0.731006160164271\n",
            "Recall - Gradient Boosting Classifier: 0.7170191339375629\n"
          ]
        },
        {
          "output_type": "display_data",
          "data": {
            "text/plain": [
              "<Figure size 640x480 with 2 Axes>"
            ],
            "image/png": "[encoded data removed]"
          },
          "metadata": {}
        }
      ]
    },
    {
      "cell_type": "markdown",
      "source": [
        "Accuracy Comparisson"
      ],
      "metadata": {
        "id": "aRQj-ZKOV99F"
      }
    },
    {
      "cell_type": "code",
      "source": [
        "from sklearn.tree import DecisionTreeClassifier\n",
        "from sklearn.neighbors import KNeighborsClassifier\n",
        "from sklearn.svm import SVC\n",
        "from sklearn.naive_bayes import GaussianNB\n",
        "from sklearn.ensemble import GradientBoostingClassifier\n",
        "from sklearn.metrics import accuracy_score\n",
        "\n",
        "# Decision Tree\n",
        "dt_classifier = DecisionTreeClassifier()\n",
        "dt_classifier.fit(X_train, y_train)\n",
        "y_pred_dt = dt_classifier.predict(X_test)\n",
        "accuracy_dt = accuracy_score(y_test, y_pred_dt)\n",
        "\n",
        "# K-Nearest Neighbors (KNN)\n",
        "knn_classifier = KNeighborsClassifier()\n",
        "knn_classifier.fit(X_train, y_train)\n",
        "y_pred_knn = knn_classifier.predict(X_test)\n",
        "accuracy_knn = accuracy_score(y_test, y_pred_knn)\n",
        "\n",
        "# Support Vector Machines (SVM)\n",
        "svm_classifier = SVC()\n",
        "svm_classifier.fit(X_train, y_train)\n",
        "y_pred_svm = svm_classifier.predict(X_test)\n",
        "accuracy_svm = accuracy_score(y_test, y_pred_svm)\n",
        "\n",
        "# Naive Bayes\n",
        "nb_classifier = GaussianNB()\n",
        "nb_classifier.fit(X_train, y_train)\n",
        "y_pred_nb = nb_classifier.predict(X_test)\n",
        "accuracy_nb = accuracy_score(y_test, y_pred_nb)\n",
        "\n",
        "# Gradient Boosting\n",
        "gb_classifier = GradientBoostingClassifier()\n",
        "gb_classifier.fit(X_train, y_train)\n",
        "y_pred_gb = gb_classifier.predict(X_test)\n",
        "accuracy_gb = accuracy_score(y_test, y_pred_gb)\n",
        "\n",
        "# Compare accuracies\n",
        "accuracies = {\n",
        "    \"Decision Tree\": accuracy_dt,\n",
        "    \"KNN\": accuracy_knn,\n",
        "    \"SVM\": accuracy_svm,\n",
        "    \"Naive Bayes\": accuracy_nb,\n",
        "    \"Gradient Boosting\": accuracy_gb\n",
        "}\n",
        "\n",
        "for model, accuracy in accuracies.items():\n",
        "    print(f\"{model} Accuracy: {accuracy}\")"
      ],
      "metadata": {
        "colab": {
          "base_uri": "https://localhost:8080/"
        },
        "id": "pp13uDxrWAUM",
        "outputId": "6ef08ca9-554b-4b1b-a000-39f239869a60"
      },
      "execution_count": null,
      "outputs": [
        {
          "output_type": "stream",
          "name": "stdout",
          "text": [
            "Decision Tree Accuracy: 0.6244939271255061\n",
            "KNN Accuracy: 0.5096153846153846\n",
            "SVM Accuracy: 0.4974696356275304\n",
            "Naive Bayes Accuracy: 0.7201417004048583\n",
            "Gradient Boosting Accuracy: 0.7252024291497976\n"
          ]
        }
      ]
    },
    {
      "cell_type": "markdown",
      "source": [
        "Berdasarkan hasil yang diperoleh, berikut rangkuman akurasi dari masing-masing algoritma machine learning:\n",
        "\n",
        "* Decision Tree: 0.624\n",
        "* K-Nearest Neighbors (KNN): 0.510\n",
        "* Support Vector Machines (SVM): 0.497\n",
        "* Naive Bayes: 0.720\n",
        "* Gradient Boosting: 0.725\n",
        "\n",
        "Dari ringkasan, kita dapat mengamati bahwa algoritma Gradient Boosting dan Naive Bayes mencapai akurasi yang relatif lebih tinggi dibandingkan dengan algoritma lainnya. Namun, penting untuk diperhatikan bahwa pilihan algoritme terbaik bergantung pada berbagai faktor seperti masalah khusus, kumpulan data, dan metrik evaluasi yang digunakan. Disarankan untuk menganalisis hasil lebih lanjut, mempertimbangkan metrik kinerja lainnya, dan berpotensi melakukan eksperimen atau penyetelan tambahan untuk menentukan algoritme yang paling cocok untuk proyek spesifik Anda."
      ],
      "metadata": {
        "id": "UL0oEi_nWXKx"
      }
    }
  ],
  "metadata": {
    "colab": {
      "provenance": []
    },
    "kernelspec": {
      "display_name": "Python 3 (ipykernel)",
      "language": "python",
      "name": "python3"
    },
    "language_info": {
      "codemirror_mode": {
        "name": "ipython",
        "version": 3
      },
      "file_extension": ".py",
      "mimetype": "text/x-python",
      "name": "python",
      "nbconvert_exporter": "python",
      "pygments_lexer": "ipython3",
      "version": "3.10.9"
    },
    "vscode": {
      "interpreter": {
        "hash": "5e70fd34aa919644e731ce0c71c5ec6c66d3b48eb7909f9a04da7ee7076ef028"
      }
    }
  },
  "nbformat": 4,
  "nbformat_minor": 0
}