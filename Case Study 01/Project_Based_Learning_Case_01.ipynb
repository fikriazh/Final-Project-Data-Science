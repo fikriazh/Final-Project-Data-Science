{
  "cells": [
    {
      "cell_type": "markdown",
      "source": [
        "Versi [Google Collab](https://colab.research.google.com/drive/10-1vxoQ5Mxp654Hs0b88AJ2ub92p0Z-B#scrollTo=qLb2bWu8mkrF)"
      ],
      "metadata": {
        "id": "qLb2bWu8mkrF"
      },
      "id": "qLb2bWu8mkrF"
    },
    {
      "cell_type": "code",
      "execution_count": null,
      "id": "309dabb9-e570-4d6f-b227-5f2fdd40736b",
      "metadata": {
        "id": "309dabb9-e570-4d6f-b227-5f2fdd40736b"
      },
      "outputs": [],
      "source": [
        "#Import Libraries\n",
        "import pandas as pd\n",
        "import numpy as np\n",
        "import scipy.stats as stats"
      ]
    },
    {
      "cell_type": "code",
      "execution_count": null,
      "id": "56587e98-c378-44b9-93f0-d796b76124ff",
      "metadata": {
        "colab": {
          "base_uri": "https://localhost:8080/"
        },
        "id": "56587e98-c378-44b9-93f0-d796b76124ff",
        "outputId": "dd0cb445-4190-4af1-a864-669d12ed1710"
      },
      "outputs": [
        {
          "output_type": "stream",
          "name": "stdout",
          "text": [
            "    TransactionAmount\n",
            "0                 100\n",
            "1                 150\n",
            "2                  50\n",
            "3                 100\n",
            "4                 130\n",
            "5                 120\n",
            "6                 100\n",
            "7                  85\n",
            "8                  70\n",
            "9                 150\n",
            "10                150\n",
            "11                120\n",
            "12                 50\n",
            "13                100\n",
            "14                100\n",
            "15                140\n",
            "16                 90\n",
            "17                150\n",
            "18                 50\n",
            "19                 90\n",
            "20                120\n",
            "21                100\n",
            "22                110\n",
            "23                 75\n",
            "24                 65\n"
          ]
        }
      ],
      "source": [
        "#Create DataFrame\n",
        "\n",
        "data = {'TransactionAmount': [100,150,50,100,130,120,100,85,70,150,150,120,50,100,100,140,90,150,50,90,120,100,110,75,65]}\n",
        "\n",
        "df = pd.DataFrame(data)\n",
        "print(df)"
      ]
    },
    {
      "cell_type": "code",
      "execution_count": null,
      "id": "KOFYWfvUtfMx",
      "metadata": {
        "colab": {
          "base_uri": "https://localhost:8080/"
        },
        "id": "KOFYWfvUtfMx",
        "outputId": "26fcb1bd-d63c-48f2-af2d-1b75e3425eb0"
      },
      "outputs": [
        {
          "output_type": "stream",
          "name": "stdout",
          "text": [
            "Mean:  102.6\n",
            "Median:  100.0\n",
            "Mode:  100\n"
          ]
        }
      ],
      "source": [
        "#Central Tendency\n",
        "\n",
        "mean = df['TransactionAmount'].mean()\n",
        "median = df['TransactionAmount'].median()\n",
        "mode = df['TransactionAmount'].mode()[0]\n",
        "\n",
        "print(\"Mean: \", mean)\n",
        "print(\"Median: \", median)\n",
        "print(\"Mode: \", mode)"
      ]
    },
    {
      "cell_type": "markdown",
      "id": "b3516406-9375-4043-92a3-c0bfb7476e9e",
      "metadata": {
        "id": "b3516406-9375-4043-92a3-c0bfb7476e9e"
      },
      "source": [
        "Berdasarkan hasil output di atas, dapat disimpulkan bahwa nilai mean, median, dan mode dari data ‘TransactionAmount’ adalah 102.6, 100.0, dan 100, secara berturut-turut. Hal ini menunjukkan bahwa data memiliki kecenderungan yang sama dan terdistribusi secara merata."
      ]
    },
    {
      "cell_type": "code",
      "execution_count": null,
      "id": "UcbHy344uQ-G",
      "metadata": {
        "colab": {
          "base_uri": "https://localhost:8080/"
        },
        "id": "UcbHy344uQ-G",
        "outputId": "16f41c98-549b-4ecb-f015-2e3008964c62"
      },
      "outputs": [
        {
          "output_type": "stream",
          "name": "stdout",
          "text": [
            "Variance:  1012.7499999999999\n",
            "Standard Deviation:  31.823733281939123\n",
            "Max Value:  150\n",
            "Min Value:  50\n",
            "Q1:  85.0\n",
            "Median:  100.0\n",
            "Q3:  120.0\n"
          ]
        }
      ],
      "source": [
        "#Variability\n",
        "\n",
        "var = df['TransactionAmount'].var()\n",
        "std = df['TransactionAmount'].std()\n",
        "max_val = df['TransactionAmount'].max()\n",
        "min_val = df['TransactionAmount'].min()\n",
        "q1 = df['TransactionAmount'].quantile(0.25)\n",
        "median = df['TransactionAmount'].quantile(0.5)\n",
        "q3 = df['TransactionAmount'].quantile(0.75)\n",
        "\n",
        "print(\"Variance: \", var)\n",
        "print(\"Standard Deviation: \", std)\n",
        "print(\"Max Value: \", max_val)\n",
        "print(\"Min Value: \", min_val)\n",
        "print(\"Q1: \", q1)\n",
        "print(\"Median: \", median)\n",
        "print(\"Q3: \", q3)"
      ]
    },
    {
      "cell_type": "markdown",
      "id": "3ba83d69-840f-4003-b42a-35f0a8c63112",
      "metadata": {
        "id": "3ba83d69-840f-4003-b42a-35f0a8c63112"
      },
      "source": [
        "Berdasarkan hasil output di atas, dapat disimpulkan bahwa nilai variansi, standar deviasi, max, min, serta kuartil dari data ‘TransactionAmount’ adalah 1012.749, 31.823, 150, 50, 85, 100, dan 120, secara berturut-turut. Hal ini dapat digunakan untuk memahami sebaran data ‘TransactionAmount’ dan melihat outlier (jika ada)."
      ]
    },
    {
      "cell_type": "code",
      "execution_count": null,
      "id": "686e0fc4-84d5-4712-ae90-b47eb3ea44ac",
      "metadata": {
        "colab": {
          "base_uri": "https://localhost:8080/"
        },
        "id": "686e0fc4-84d5-4712-ae90-b47eb3ea44ac",
        "outputId": "42c97137-4bef-4516-8b06-654df3bbaa93"
      },
      "outputs": [
        {
          "name": "stdout",
          "output_type": "stream",
          "text": [
            "t-statistic:  0.4085001556802841\n",
            "p-value:  0.6865284813438117\n",
            "Fail to reject null hypothesis (H0)\n"
          ]
        }
      ],
      "source": [
        "from scipy.stats import ttest_1samp\n",
        "\n",
        "# menghitung t-statistics dan p-value\n",
        "t_statistic, p_value = ttest_1samp(df['TransactionAmount'], 100) # define h0 = 100, h1 = < 100 >\n",
        "\n",
        "print(\"t-statistic: \", t_statistic)\n",
        "print(\"p-value: \", p_value)\n",
        "\n",
        "# melakukan one sample t-test\n",
        "alpha = 0.05 # define alpha 0.05\n",
        "if p_value < alpha:\n",
        "    print(\"Reject null hypothesis (H0)\")\n",
        "else:\n",
        "    print(\"Fail to reject null hypothesis (H0)\")"
      ]
    },
    {
      "cell_type": "markdown",
      "id": "7a46e7d0-1eac-4fa5-a88d-3cdfae58d56b",
      "metadata": {
        "id": "7a46e7d0-1eac-4fa5-a88d-3cdfae58d56b"
      },
      "source": [
        "**Kesimpulan**\n",
        "\n",
        "Berdasarkan hasil output di atas, dapat disimpulkan bahwa nilai t-statistic adalah 0.408, dan p-value adalah 0.686. Dalam hal ini, karena p-value > alpha (0.05), maka kita gagal menolak hipotesis nol (null hypothesis) yang menyatakan bahwa penjualan rata-rata (nilai H0) adalah USD 100 per transaksi. Dengan kata lain, hasil uji statistik menunjukkan bahwa tidak ada perbedaan yang signifikan antara penjualan rata-rata saat ini dengan nilai H0 sebelumnya."
      ]
    },
    {
      "cell_type": "code",
      "execution_count": null,
      "id": "d6595428-5211-4cf7-bb61-ca8e201e6ef6",
      "metadata": {
        "id": "d6595428-5211-4cf7-bb61-ca8e201e6ef6",
        "outputId": "b4f3735d-6240-47b1-a767-eee06a366009"
      },
      "outputs": [
        {
          "name": "stdout",
          "output_type": "stream",
          "text": [
            "Critical Region (H1):  True\n"
          ]
        }
      ],
      "source": [
        "#Critical region result\n",
        "\n",
        "from scipy.stats import t\n",
        "\n",
        "n = len(df)\n",
        "alpha = 0.05\n",
        "df_degrees = n - 1\n",
        "\n",
        "# Menghitung t-score dari tabel distribusi t\n",
        "t_score = t.ppf(alpha, df_degrees)\n",
        "\n",
        "# Menghitung critical region (nilai H1)\n",
        "h1 = (df['TransactionAmount'].mean() < 100 - t_score * df['TransactionAmount'].std()) or (df['TransactionAmount'].mean() > 100 + t_score * df['TransactionAmount'].std())\n",
        "\n",
        "print(\"Critical Region (H1): \", h1)"
      ]
    },
    {
      "cell_type": "markdown",
      "id": "73657ac6",
      "metadata": {
        "id": "73657ac6"
      },
      "source": [
        "### Catatan :\n",
        "stats.t.ppf(1-0.05, 24)\n",
        "coba keluarkan nilai p-value, dan simpulkan apakah diatas nilai alpha atau tidak, kemudian simpulkan apakah tolak H0 atau gagal menolak H0 ???\n",
        "\n",
        "Notes : untuk penerapan p-value, alpha dan simpulan h0, sudah dikalkulasikan pada notes sebelum ini.\n"
      ]
    },
    {
      "cell_type": "markdown",
      "id": "f7827217-2002-4d2d-bb4d-2d6fa66335b6",
      "metadata": {
        "id": "f7827217-2002-4d2d-bb4d-2d6fa66335b6"
      },
      "source": [
        "Nilai H1 adalah True, artinya terdapat perbedaan yang signifikan antara penjualan rata-rata saat ini dengan nilai H0 sebelumnya. Hal ini dapat diartikan bahwa pelatihan yang telah diberikan kepada pekerja sales telah berhasil dalam meningkatkan penjualan per transaksi, sehingga rata-rata penjualan saat ini lebih tinggi dari nilai H0 sebelumnya ($100 per transaksi). Dalam hal ini, perusahaan X dapat melanjutkan upaya untuk meningkatkan penjualan dengan cara melatih pekerja sales lebih lanjut atau memberikan insentif yang lebih besar bagi pekerja sales yang berhasil meningkatkan penjualannya."
      ]
    }
  ],
  "metadata": {
    "colab": {
      "provenance": []
    },
    "kernelspec": {
      "display_name": "Python 3 (ipykernel)",
      "language": "python",
      "name": "python3"
    },
    "language_info": {
      "codemirror_mode": {
        "name": "ipython",
        "version": 3
      },
      "file_extension": ".py",
      "mimetype": "text/x-python",
      "name": "python",
      "nbconvert_exporter": "python",
      "pygments_lexer": "ipython3",
      "version": "3.10.9"
    },
    "vscode": {
      "interpreter": {
        "hash": "5e70fd34aa919644e731ce0c71c5ec6c66d3b48eb7909f9a04da7ee7076ef028"
      }
    }
  },
  "nbformat": 4,
  "nbformat_minor": 5
}